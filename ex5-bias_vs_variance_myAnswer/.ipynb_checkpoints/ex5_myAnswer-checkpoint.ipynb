{
 "cells": [
  {
   "cell_type": "markdown",
   "metadata": {},
   "source": []
  },
  {
   "cell_type": "code",
   "execution_count": 1,
   "metadata": {},
   "outputs": [],
   "source": [
    "import numpy as np\n",
    "import matplotlib.pyplot as plt\n",
    "import pandas as pd\n",
    "import scipy.io as scio\n",
    "import scipy.optimize as opt"
   ]
  },
  {
   "cell_type": "markdown",
   "metadata": {},
   "source": [
    "# 1 Regularized Linear Regression"
   ]
  },
  {
   "cell_type": "markdown",
   "metadata": {},
   "source": [
    "## 1.1 Visualizing the dataset"
   ]
  },
  {
   "cell_type": "code",
   "execution_count": 2,
   "metadata": {},
   "outputs": [
    {
     "data": {
      "text/plain": [
       "((12, 2), (12, 1))"
      ]
     },
     "execution_count": 2,
     "metadata": {},
     "output_type": "execute_result"
    }
   ],
   "source": [
    "fpath = 'ex5data1.mat'\n",
    "def initData(fpath):\n",
    "    data = scio.loadmat(fpath)\n",
    "    \n",
    "    X = np.insert(data['X'],0,1,axis=1)\n",
    "    y = data['y']\n",
    "    \n",
    "    Xval = np.insert(data['Xval'],0,1,axis=1)\n",
    "    yval = data['yval']\n",
    "    \n",
    "    Xtest = np.insert(data['Xtest'],0,1,axis=1)\n",
    "    ytest = data['ytest']\n",
    "    return X,y,Xval,yval,Xtest,ytest\n",
    "X,y,Xval,yval,Xtest,ytest = initData(fpath)\n",
    "X.shape,y.shape"
   ]
  },
  {
   "cell_type": "code",
   "execution_count": 3,
   "metadata": {},
   "outputs": [
    {
     "data": {
      "image/png": "[encoded data removed]",
      "text/plain": [
       "<Figure size 432x288 with 1 Axes>"
      ]
     },
     "metadata": {
      "needs_background": "light"
     },
     "output_type": "display_data"
    }
   ],
   "source": [
    "def showFigure1(X,y):\n",
    "    plt.scatter(X[:,1],y,marker='x',c='red')\n",
    "    plt.xlabel('Change in water level (x)')\n",
    "    plt.ylabel('Water flowing out of the dam (y)')\n",
    "    plt.title('Figure 1:  Data',y = -0.3)\n",
    "    plt.show()\n",
    "showFigure1(X,y)"
   ]
  },
  {
   "cell_type": "markdown",
   "metadata": {},
   "source": [
    "## 1.2 Regularized linear regression cost function"
   ]
  },
  {
   "cell_type": "code",
   "execution_count": 4,
   "metadata": {},
   "outputs": [
    {
     "data": {
      "text/plain": [
       "303.9931922202643"
      ]
     },
     "execution_count": 4,
     "metadata": {},
     "output_type": "execute_result"
    }
   ],
   "source": [
    "def hypothesis(theta,X):\n",
    "    return X.dot(theta.T)\n",
    "\n",
    "def regularizedCost(theta,X,y,lambda_var = 1):\n",
    "    m,n = X.shape\n",
    "    \n",
    "    theta = theta.reshape(1,-1)\n",
    "    return (np.sum((hypothesis(theta,X) - y) ** 2) + lambda_var * (np.sum(theta[:,1:] ** 2)))/(2*m)\n",
    "\n",
    "theta = np.ones(shape=(1,X.shape[1]))\n",
    "regularizedCost(theta,X,y,1)"
   ]
  },
  {
   "cell_type": "markdown",
   "metadata": {},
   "source": [
    "## 1.3 Regularized linear regression gradient"
   ]
  },
  {
   "cell_type": "code",
   "execution_count": 5,
   "metadata": {},
   "outputs": [
    {
     "data": {
      "text/plain": [
       "array([[-15.30301567, 598.25074417]])"
      ]
     },
     "execution_count": 5,
     "metadata": {},
     "output_type": "execute_result"
    }
   ],
   "source": [
    "def regularizedGradient(theta,X,y,lambda_var = 1):\n",
    "    m,n = X.shape\n",
    "    theta = theta.reshape(1,-1)\n",
    "    temp_theta = theta.copy()\n",
    "    temp_theta[:,0] = 0\n",
    "    first_term = (hypothesis(theta,X) - y).T.dot(X) / m\n",
    "    second_term = temp_theta * lambda_var / m\n",
    "    return first_term + second_term\n",
    "regularizedGradient(theta,X,y,1)"
   ]
  },
  {
   "cell_type": "markdown",
   "metadata": {},
   "source": [
    "## 1.4 Fitting linear regression"
   ]
  },
  {
   "cell_type": "code",
   "execution_count": 6,
   "metadata": {},
   "outputs": [
    {
     "data": {
      "text/plain": [
       "     fun: 22.373906495108912\n",
       "     jac: array([[-2.61217119e-08, -4.37014212e-07]])\n",
       " message: 'Local minimum reached (|pg| ~= 0)'\n",
       "    nfev: 7\n",
       "     nit: 3\n",
       "  status: 0\n",
       " success: True\n",
       "       x: array([13.08790348,  0.36777923])"
      ]
     },
     "execution_count": 6,
     "metadata": {},
     "output_type": "execute_result"
    }
   ],
   "source": [
    "theta = np.ones(shape=(1,X.shape[1]))\n",
    "lambda_var = 0\n",
    "res = opt.minimize(fun=regularizedCost,x0=theta,args=(X,y,lambda_var),method='TNC',jac=regularizedGradient,options={'maxiter':400})\n",
    "res"
   ]
  },
  {
   "cell_type": "code",
   "execution_count": 7,
   "metadata": {},
   "outputs": [
    {
     "data": {
      "image/png": "[encoded data removed]",
      "text/plain": [
       "<Figure size 432x288 with 1 Axes>"
      ]
     },
     "metadata": {
      "needs_background": "light"
     },
     "output_type": "display_data"
    }
   ],
   "source": [
    "def showFigure2(X,y,res,num=50):\n",
    "    plt.scatter(X[:,1],y,marker='x',c='red')\n",
    "    plt.xlabel('Change in water level (x)')\n",
    "    plt.ylabel('Water flowing out of the dam (y)')\n",
    "    x = np.linspace(X[:,1].min(),X[:,1].max(),num)\n",
    "    x = np.insert(x.T.reshape(-1,1),0,1,axis=1)\n",
    "    y = hypothesis(res['x'],x)\n",
    "    plt.plot(x[:,1:],y,c='blue')\n",
    "    plt.title('Figure 2:  Linear Fit',y = -0.3)\n",
    "    plt.show()\n",
    "showFigure2(X,y,res)"
   ]
  },
  {
   "cell_type": "markdown",
   "metadata": {},
   "source": [
    "# 2 Bias-variance"
   ]
  },
  {
   "cell_type": "markdown",
   "metadata": {},
   "source": [
    "## 2.1  Learning curves"
   ]
  },
  {
   "cell_type": "code",
   "execution_count": 8,
   "metadata": {},
   "outputs": [
    {
     "data": {
      "text/plain": [
       "((12, 2), (12, 1), (21, 2), (21, 1))"
      ]
     },
     "execution_count": 8,
     "metadata": {},
     "output_type": "execute_result"
    }
   ],
   "source": [
    "X.shape,y.shape,Xval.shape,yval.shape"
   ]
  },
  {
   "cell_type": "markdown",
   "metadata": {},
   "source": [
    "**下面吃了个大坑：** 计算训练集误差和测试集误差的时候，**是直接用代价函数来计算，而不需要通过正则化代价函数来计算**"
   ]
  },
  {
   "cell_type": "code",
   "execution_count": 9,
   "metadata": {},
   "outputs": [],
   "source": [
    "def learningError(X,res,y,Xval,yval,lambda_var = 1):\n",
    "    m = X.shape[0]\n",
    "    numbers = np.arange(1,m+1)\n",
    "    errorVal = np.zeros(numbers.shape)\n",
    "    error = np.zeros(numbers.shape)\n",
    "    k = 0\n",
    "    for i in range(1,m+1): # 记得 + 1\n",
    "        res = opt.minimize(fun=regularizedCost,x0=np.ones(shape=(1,X.shape[1])),args=(X[:i,:],y[:i,:],lambda_var),method='TNC',jac=regularizedGradient,options={'disp':True})\n",
    "        # 大坑\n",
    "#         error[k] = res['fun']   # 训练集误差\n",
    "#         errorVal[k] = regularizedCost(res['x'],Xval,yval,lambda_var)  # 验证集误差\n",
    "        \n",
    "        error[k] = regularizedCost(res['x'],X[:i,:],y[:i],0)\n",
    "        errorVal[k] = regularizedCost(res['x'],Xval,yval,0)\n",
    "        k = k+1\n",
    "    error = error.reshape(-1,)\n",
    "    errorVal = errorVal.reshape(-1,)\n",
    "    numbers = numbers.reshape(-1,)\n",
    "    return errorVal,error,numbers\n",
    "errorVal,error,numbers = learningError(X,res,y,Xval,yval,0)"
   ]
  },
  {
   "cell_type": "code",
   "execution_count": 10,
   "metadata": {},
   "outputs": [
    {
     "data": {
      "image/png": "[encoded data removed]",
      "text/plain": [
       "<Figure size 432x288 with 1 Axes>"
      ]
     },
     "metadata": {
      "needs_background": "light"
     },
     "output_type": "display_data"
    }
   ],
   "source": [
    "def showFigure3(x,error,errorVal):\n",
    "    plt.plot(x,error,c='blue',label='Train')\n",
    "    plt.plot(x,errorVal,c='green',label='Cross Validation')\n",
    "    plt.xlabel('Number of training examples')\n",
    "    plt.ylabel('Error')\n",
    "    plt.title('Figure 3:  Linear regression learning curve',y = -0.3)\n",
    "    plt.legend()\n",
    "    plt.show()\n",
    "showFigure3(numbers,error,errorVal)"
   ]
  },
  {
   "cell_type": "markdown",
   "metadata": {},
   "source": [
    "别只看图觉得训练集误差和测试集误差的位置都不算高就认为没有欠拟合，**还要注意y轴的刻度**，实际上两者误差都在22以上，这个值已经很高了，所以是欠拟合"
   ]
  },
  {
   "cell_type": "markdown",
   "metadata": {},
   "source": [
    "# 3 Polynomial regression"
   ]
  },
  {
   "cell_type": "markdown",
   "metadata": {},
   "source": []
  },
  {
   "cell_type": "code",
   "execution_count": 11,
   "metadata": {},
   "outputs": [],
   "source": [
    "fpath = 'ex5data1.mat'\n",
    "X,y,Xval,yval,Xtest,ytest = initData(fpath)\n",
    "def polyFeatures(X,p):\n",
    "    if p < 2: return X\n",
    "    for i in range(1,p):\n",
    "        X = np.insert(X,X.shape[1],np.multiply(X[:,1],X[:,-1]),axis=1)\n",
    "    return X"
   ]
  },
  {
   "cell_type": "markdown",
   "metadata": {},
   "source": [
    "## 3.1 Learning Polynomial Regression"
   ]
  },
  {
   "cell_type": "markdown",
   "metadata": {},
   "source": [
    "8阶："
   ]
  },
  {
   "cell_type": "code",
   "execution_count": 12,
   "metadata": {},
   "outputs": [
    {
     "data": {
      "text/plain": [
       "((12, 9), (12, 1))"
      ]
     },
     "execution_count": 12,
     "metadata": {},
     "output_type": "execute_result"
    }
   ],
   "source": [
    "p = 8\n",
    "X = polyFeatures(X,p)\n",
    "Xval = polyFeatures(Xval,p)\n",
    "Xtest = polyFeatures(Xtest,p)\n",
    "X.shape,y.shape"
   ]
  },
  {
   "cell_type": "markdown",
   "metadata": {},
   "source": [
    "直接训练的效果并不好，还需要进行**归一化**"
   ]
  },
  {
   "cell_type": "markdown",
   "metadata": {},
   "source": [
    "**注意**：不对常数项正规化"
   ]
  },
  {
   "cell_type": "markdown",
   "metadata": {},
   "source": [
    "**题外话**：我这里是用 Numpy 来计算的均值和方差，而参考答案是用 Pandas 来计算均值和方差，二者的底层实现不一样，所以会有误差:\n",
    "参考：[机器学习十三 STD（标准差）在Numpy与Pandas中的不同](https://blog.csdn.net/zaqwsxedcd/article/details/76661661)"
   ]
  },
  {
   "cell_type": "code",
   "execution_count": 13,
   "metadata": {},
   "outputs": [],
   "source": [
    "def featureNormalize(X):\n",
    "    m,n = X.shape\n",
    "    mu = np.mean(X[:,1:],axis=0)\n",
    "    sigma = np.std(X[:,1:],axis=0)\n",
    "    normalizeX = X.copy()\n",
    "    normalizeX[:,1:] = (normalizeX[:,1:] - mu)/sigma\n",
    "    return normalizeX,mu,sigma\n",
    "def deFeatureNormalize(normalizeX,mu,sigma):\n",
    "    temp = normalizeX.copy()\n",
    "    temp[:,1:] = np.multiply(normalizeX[:,1:],sigma)+ mu\n",
    "    return temp"
   ]
  },
  {
   "cell_type": "code",
   "execution_count": 14,
   "metadata": {},
   "outputs": [
    {
     "data": {
      "text/plain": [
       "array([[ 1.00000000e+00, -3.78243704e-01, -7.88662325e-01,\n",
       "         1.90328720e-01, -7.37591303e-01,  3.20251970e-01,\n",
       "        -6.17151602e-01,  3.59835014e-01, -5.31091256e-01],\n",
       "       [ 1.00000000e+00, -8.38920100e-01,  1.31420204e-03,\n",
       "        -2.58961742e-01, -3.41564822e-01,  9.75492734e-02,\n",
       "        -4.55196644e-01,  2.66773432e-01, -4.68873807e-01],\n",
       "       [ 1.00000000e+00,  1.43871736e+00,  6.10831582e-01,\n",
       "         1.30534069e+00,  2.56220001e-01,  1.02186338e+00,\n",
       "        -1.26962121e-02,  7.90210009e-01, -1.77926980e-01]])"
      ]
     },
     "execution_count": 14,
     "metadata": {},
     "output_type": "execute_result"
    }
   ],
   "source": [
    "normalizeX,mu,sigma = featureNormalize(X)\n",
    "normalizeX[:3, :]"
   ]
  },
  {
   "cell_type": "code",
   "execution_count": 15,
   "metadata": {},
   "outputs": [
    {
     "data": {
      "text/plain": [
       "     fun: 0.028915509151515428\n",
       "     jac: array([[-2.67737348e-05, -5.15547950e-05,  3.28105342e-05,\n",
       "        -4.40615143e-05, -1.73985822e-05, -2.30014424e-05,\n",
       "         1.98574672e-05,  3.67567680e-06, -1.86775016e-05]])\n",
       " message: 'Converged (|f_n-f_(n-1)| ~= 0)'\n",
       "    nfev: 341\n",
       "     nit: 74\n",
       "  status: 1\n",
       " success: True\n",
       "       x: array([ 11.21756255,   9.17003773,  18.30741959,  28.57865716,\n",
       "       -27.95248876, -73.62858459,   8.10407626,  60.07291592,\n",
       "        19.80726507])"
      ]
     },
     "execution_count": 15,
     "metadata": {},
     "output_type": "execute_result"
    }
   ],
   "source": [
    "lambda_var = 0\n",
    "res = opt.minimize(fun=regularizedCost,x0=np.zeros(shape=(1,normalizeX.shape[1])),args=(normalizeX,y,lambda_var),jac=regularizedGradient,method='TNC',options={'maxiter':400})\n",
    "res"
   ]
  },
  {
   "cell_type": "code",
   "execution_count": 16,
   "metadata": {},
   "outputs": [
    {
     "data": {
      "image/png": "[encoded data removed]",
      "text/plain": [
       "<Figure size 432x288 with 1 Axes>"
      ]
     },
     "metadata": {
      "needs_background": "light"
     },
     "output_type": "display_data"
    }
   ],
   "source": [
    "def showFigure4(theta,X,y):\n",
    "    plt.scatter(X[:,1],y,c='r',marker='x')\n",
    "    \n",
    "    x = np.linspace(X[:,1].min()-20,X[:,1].max()+20).reshape(-1,1)\n",
    "    x = np.insert(x,0,1,axis=1)\n",
    "    x = polyFeatures(x,X.shape[1]-1)\n",
    "\n",
    "    normalize_x,mu_x,sigma_x = featureNormalize(x)\n",
    "    line_y = hypothesis(theta,normalize_x)\n",
    "    plt.plot(x[:,1],line_y)\n",
    "\n",
    "    plt.xlabel(\"Change in water level (x)\")\n",
    "    plt.ylabel(\"Water flowing out of the dam (y)\")\n",
    "    plt.title(\"Figure 4:  Polynomial fit,λ= 0\",y=-0.3)\n",
    "    plt.show()\n",
    "showFigure4(res['x'],deFeatureNormalize(normalizeX,mu,sigma),y)"
   ]
  },
  {
   "cell_type": "code",
   "execution_count": 17,
   "metadata": {},
   "outputs": [
    {
     "data": {
      "image/png": "[encoded data removed]",
      "text/plain": [
       "<Figure size 432x288 with 1 Axes>"
      ]
     },
     "metadata": {
      "needs_background": "light"
     },
     "output_type": "display_data"
    }
   ],
   "source": [
    "normalizeXval,mu_xval,sigma_xval = featureNormalize(Xval)\n",
    "errorVal,error,numbers = learningError(normalizeX,res,y,normalizeXval,yval,lambda_var) # 算误差的时候也是通过 opt.minimize 算的，所以传的参数是归一化之后的值\n",
    "\n",
    "def showFigure5(x,error,errorVal):\n",
    "    plt.plot(x,error,c='blue',label='Train')\n",
    "    plt.plot(x,errorVal,c='green',label='Cross Validation')\n",
    "    plt.xlabel('Number of training examples')\n",
    "    plt.ylabel('Error')\n",
    "    plt.title('Figure 5:  Polynomial learning curve,λ= 0',y = -0.3)\n",
    "    plt.legend()\n",
    "    plt.show()\n",
    "showFigure5(numbers,error,errorVal)"
   ]
  },
  {
   "cell_type": "markdown",
   "metadata": {},
   "source": [
    "训练集误差基本上没有，这就是过拟合了\n",
    "\n",
    "One  way  to  combat  the  overfitting  (high-variance)  problem  is  to  addregularization to the model.  In the next section, you will get to try differentλparameters to see how regularization can lead to a better model."
   ]
  },
  {
   "cell_type": "markdown",
   "metadata": {},
   "source": [
    "## 3.2 Optional (ungraded) exercise: Adjusting the regularization parameter"
   ]
  },
  {
   "cell_type": "markdown",
   "metadata": {},
   "source": [
    "**λ= 1:**"
   ]
  },
  {
   "cell_type": "code",
   "execution_count": 18,
   "metadata": {},
   "outputs": [
    {
     "data": {
      "text/plain": [
       "     fun: 6.830463317197754\n",
       "     jac: array([[ 6.06620546e-09,  1.55433259e-07, -1.82762826e-07,\n",
       "         5.25019029e-08, -6.62282996e-08, -5.36316555e-08,\n",
       "         7.39619897e-08, -1.12724667e-07,  9.03506948e-08]])\n",
       " message: 'Converged (|f_n-f_(n-1)| ~= 0)'\n",
       "    nfev: 41\n",
       "     nit: 10\n",
       "  status: 1\n",
       " success: True\n",
       "       x: array([11.21758933,  8.36723441,  5.10201498,  3.39015745,  2.15881245,\n",
       "        1.62042827,  0.97247576,  1.02573863,  0.32264399])"
      ]
     },
     "execution_count": 18,
     "metadata": {},
     "output_type": "execute_result"
    }
   ],
   "source": [
    "lambda_var = 1\n",
    "res = opt.minimize(fun=regularizedCost,x0=np.zeros(shape=(1,normalizeX.shape[1])),args=(normalizeX,y,lambda_var),jac=regularizedGradient,method='TNC',options={'maxiter':400})\n",
    "res"
   ]
  },
  {
   "cell_type": "code",
   "execution_count": 19,
   "metadata": {},
   "outputs": [
    {
     "data": {
      "image/png": "[encoded data removed]",
      "text/plain": [
       "<Figure size 432x288 with 1 Axes>"
      ]
     },
     "metadata": {
      "needs_background": "light"
     },
     "output_type": "display_data"
    }
   ],
   "source": [
    "def showFigure6(theta,X,y):\n",
    "    plt.scatter(X[:,1],y,c='r',marker='x')\n",
    "    \n",
    "    x = np.linspace(X[:,1].min()-20,X[:,1].max()+20).reshape(-1,1)\n",
    "    x = np.insert(x,0,1,axis=1)\n",
    "    x = polyFeatures(x,X.shape[1]-1)\n",
    "\n",
    "    normalize_x,mu_x,sigma_x = featureNormalize(x)\n",
    "    line_y = hypothesis(theta,normalize_x)\n",
    "    plt.plot(x[:,1],line_y)\n",
    "\n",
    "    plt.xlabel(\"Change in water level (x)\")\n",
    "    plt.ylabel(\"Water flowing out of the dam (y)\")\n",
    "    plt.title(\"Figure 6:  Polynomial fit,λ= 1\",y=-0.3)\n",
    "    plt.show()\n",
    "showFigure6(res['x'],deFeatureNormalize(normalizeX,mu,sigma),y)"
   ]
  },
  {
   "cell_type": "code",
   "execution_count": 20,
   "metadata": {},
   "outputs": [
    {
     "data": {
      "image/png": "[encoded data removed]",
      "text/plain": [
       "<Figure size 432x288 with 1 Axes>"
      ]
     },
     "metadata": {
      "needs_background": "light"
     },
     "output_type": "display_data"
    }
   ],
   "source": [
    "errorVal,error,numbers = learningError(normalizeX,res,y,normalizeXval,yval,lambda_var)\n",
    "def showFigure7(x,error,errorVal):\n",
    "    plt.plot(x,error,c='blue',label='Train')\n",
    "    plt.plot(x,errorVal,c='green',label='Cross Validation')\n",
    "    plt.xlabel('Number of training examples')\n",
    "    plt.ylabel('Error')\n",
    "    plt.title('Figure 7:  Polynomial learning curve,λ= 1',y = -0.3)\n",
    "    plt.legend()\n",
    "    plt.show()\n",
    "showFigure7(numbers,error,errorVal)"
   ]
  },
  {
   "cell_type": "markdown",
   "metadata": {},
   "source": [
    "两条线收敛的相近且值都不大，说明拟合的还不错"
   ]
  },
  {
   "cell_type": "markdown",
   "metadata": {},
   "source": [
    "**λ= 100:**"
   ]
  },
  {
   "cell_type": "code",
   "execution_count": 21,
   "metadata": {},
   "outputs": [
    {
     "data": {
      "text/plain": [
       "     fun: 65.95095506281532\n",
       "     jac: array([[-1.29185564e-07, -4.96351763e-07, -5.35686167e-07,\n",
       "        -1.14566104e-06, -6.74129951e-07, -1.80134922e-07,\n",
       "        -6.48931334e-07,  2.38886578e-07, -6.05994506e-07]])\n",
       " message: 'Converged (|f_n-f_(n-1)| ~= 0)'\n",
       "    nfev: 18\n",
       "     nit: 5\n",
       "  status: 1\n",
       " success: True\n",
       "       x: array([11.2175892 ,  0.99128447,  0.34101564,  0.76526022,  0.15687586,\n",
       "        0.56654375,  0.02895648,  0.42467802, -0.05196799])"
      ]
     },
     "execution_count": 21,
     "metadata": {},
     "output_type": "execute_result"
    }
   ],
   "source": [
    "lambda_var = 100\n",
    "res = opt.minimize(fun=regularizedCost,x0=np.zeros(shape=(1,normalizeX.shape[1])),args=(normalizeX,y,lambda_var),jac=regularizedGradient,method='TNC',options={'maxiter':400})\n",
    "res"
   ]
  },
  {
   "cell_type": "code",
   "execution_count": 22,
   "metadata": {},
   "outputs": [
    {
     "data": {
      "image/png": "[encoded data removed]",
      "text/plain": [
       "<Figure size 432x288 with 1 Axes>"
      ]
     },
     "metadata": {
      "needs_background": "light"
     },
     "output_type": "display_data"
    }
   ],
   "source": [
    "def showFigure8(theta,X,y):\n",
    "    plt.scatter(X[:,1],y,c='r',marker='x')\n",
    "    \n",
    "    x = np.linspace(X[:,1].min()-20,X[:,1].max()+20).reshape(-1,1)\n",
    "    x = np.insert(x,0,1,axis=1)\n",
    "    x = polyFeatures(x,X.shape[1]-1)\n",
    "\n",
    "    normalize_x,mu_x,sigma_x = featureNormalize(x)\n",
    "    line_y = hypothesis(theta,normalize_x)\n",
    "    plt.plot(x[:,1],line_y)\n",
    "\n",
    "    plt.xlabel(\"Change in water level (x)\")\n",
    "    plt.ylabel(\"Water flowing out of the dam (y)\")\n",
    "    plt.title(\"Figure 8:  Polynomial fit,λ= 100\",y=-0.3)\n",
    "    plt.show()\n",
    "showFigure8(res['x'],deFeatureNormalize(normalizeX,mu,sigma),y)"
   ]
  },
  {
   "cell_type": "markdown",
   "metadata": {},
   "source": [
    "训练集就拟合的不够好，说明是欠拟合"
   ]
  },
  {
   "cell_type": "markdown",
   "metadata": {},
   "source": [
    "## 3.3 Selecting λ using a cross validation set"
   ]
  },
  {
   "cell_type": "code",
   "execution_count": 23,
   "metadata": {},
   "outputs": [
    {
     "name": "stdout",
     "output_type": "stream",
     "text": [
      "Vals cost(l=0) = 27.526220163461435\n",
      "Vals cost(l=0.001) = 9.727290751244192\n",
      "Vals cost(l=0.003) = 14.383194114117646\n",
      "Vals cost(l=0.01) = 15.062326231173746\n",
      "Vals cost(l=0.03) = 12.195624358019368\n",
      "Vals cost(l=0.1) = 8.150037750452773\n",
      "Vals cost(l=0.3) = 5.377951641327759\n",
      "Vals cost(l=1) = 4.556537391194103\n",
      "Vals cost(l=3) = 4.998844659320207\n",
      "Vals cost(l=10) = 12.436981929679296\n"
     ]
    }
   ],
   "source": [
    "def validationCurve(X,y,Xval,yval,lambdas):\n",
    "    normalize_X,mu_X,sigma_X = featureNormalize(X)\n",
    "    normalize_Xval,mu_Xval,sigma_Xval = featureNormalize(Xval)\n",
    "    \n",
    "    def trainLinearReg(normalizeX,y,normalizeXval,yval,lambda_var):\n",
    "        res = opt.minimize(fun=regularizedCost,x0=np.zeros(shape=(1,normalizeX.shape[1])),args=(normalizeX,y,lambda_var),method='TNC',jac=regularizedGradient,options={'maxiter':400})\n",
    "        error = regularizedCost(res['x'],normalizeX,y,0)\n",
    "        errorVal = regularizedCost(res['x'],normalizeXval,yval,0)\n",
    "        return error,errorVal\n",
    "    errors = []\n",
    "    errorVals = []\n",
    "    for i in lambdas:\n",
    "        error,errorVal = trainLinearReg(normalize_X,y,normalize_Xval,yval,i)\n",
    "        errors.append(error)\n",
    "        errorVals.append(errorVal)\n",
    "    return errors,errorVals\n",
    "lambdas = [0,0.001,0.003,0.01,0.03,0.1,0.3,1,3,10]\n",
    "errors,errorVals = validationCurve(X,y,Xval,yval,lambdas)\n",
    "k = 0\n",
    "for l in lambdas:   \n",
    "    print('Vals cost(l={}) = {}'.format(l, errorVals[k]))\n",
    "    k = k + 1"
   ]
  },
  {
   "cell_type": "code",
   "execution_count": 24,
   "metadata": {},
   "outputs": [
    {
     "data": {
      "image/png": "[encoded data removed]",
      "text/plain": [
       "<Figure size 432x288 with 1 Axes>"
      ]
     },
     "metadata": {
      "needs_background": "light"
     },
     "output_type": "display_data"
    }
   ],
   "source": [
    "def showFigure9(lambdas,errors,errorVals):\n",
    "    plt.plot(lambdas,errors,c='blue',label='Train')\n",
    "    plt.plot(lambdas,errorVals,c='green',label='Cross Validation')\n",
    "    plt.xlabel('lambda')\n",
    "    plt.ylabel('Error')\n",
    "    plt.title('Figure 9:  Selecting λ using a cross validation set',y = -0.3)\n",
    "    plt.legend()\n",
    "    plt.show()\n",
    "showFigure9(lambdas,errors,errorVals)"
   ]
  },
  {
   "cell_type": "markdown",
   "metadata": {},
   "source": [
    "跟题干说的λ= 3 是最优的有出入，参考答案是λ= 0.3时训练集误差最小,而我的则是λ= 1 测试集误差最小"
   ]
  },
  {
   "cell_type": "markdown",
   "metadata": {},
   "source": [
    "## 3.4 Optional (ungraded) exercise: Computing test seterror"
   ]
  },
  {
   "cell_type": "code",
   "execution_count": 25,
   "metadata": {},
   "outputs": [
    {
     "name": "stdout",
     "output_type": "stream",
     "text": [
      "test cost(l=0) = 10.332112123524837\n",
      "test cost(l=0.001) = 11.093676254772854\n",
      "test cost(l=0.003) = 11.346871964299847\n",
      "test cost(l=0.01) = 11.075231535336258\n",
      "test cost(l=0.03) = 10.425532229474308\n",
      "test cost(l=0.1) = 9.480960000812077\n",
      "test cost(l=0.3) = 8.916153195721918\n",
      "test cost(l=1) = 10.635448588395283\n",
      "test cost(l=3) = 17.7203681712153\n",
      "test cost(l=10) = 36.63832278069543\n"
     ]
    }
   ],
   "source": [
    "for lambda_var in lambdas:\n",
    "    # lambda_var = 0.3\n",
    "    res = opt.minimize(fun=regularizedCost,x0=np.zeros(shape=(1,normalizeX.shape[1])),args=(normalizeX,y,lambda_var),jac=regularizedGradient,method='TNC',options={'maxiter':400})\n",
    "    normalize_Xtest,mu_Xtest,sigma_Xtest = featureNormalize(Xtest)\n",
    "    errorTest = regularizedCost(res['x'],normalize_Xtest,ytest,lambda_var)  # 测试集误差\n",
    "    print('test cost(l={}) = {}'.format(lambda_var, errorTest))"
   ]
  },
  {
   "cell_type": "markdown",
   "metadata": {},
   "source": [
    "通过验证集找到最适合的λ（我这里是1）来最终对测试集进行测试。尽管测试集表达出来的λ= 0.3的误差比λ= 1的误差小，那也只能说明在这个测试集上效果不如λ= 0.3，但是如果对不同的测试集进行多次测试，λ= 1的误差最小的情况一定出现的是最多的。"
   ]
  },
  {
   "cell_type": "markdown",
   "metadata": {},
   "source": [
    "## 3.5 Optional (ungraded) exercise:  Plotting learning curves with randomly selected examples"
   ]
  },
  {
   "cell_type": "code",
   "execution_count": 26,
   "metadata": {},
   "outputs": [],
   "source": [
    "lambda_var = 0.01"
   ]
  },
  {
   "cell_type": "code",
   "execution_count": 27,
   "metadata": {},
   "outputs": [],
   "source": [
    "import random\n",
    "def randomLearningError(X,res,y,Xval,yval,lambda_var = 1,repeated=50):\n",
    "    normalize_X,mu_X,sigma_X = featureNormalize(X)\n",
    "    normalize_Xval,mu_Xval,sigma_Xval = featureNormalize(Xval)\n",
    "    \n",
    "    numbers = np.linspace(1,normalize_X.shape[0],normalize_X.shape[0])\n",
    "    errorVal = np.zeros(numbers.shape)\n",
    "    error = np.zeros(numbers.shape)\n",
    "    k = 0\n",
    "    for i in range(1,normalize_X.shape[0]+1): # 记得 + 1\n",
    "        sumErrorSample = 0\n",
    "        sumErrorValSample = 0\n",
    "        for j in range(repeated):\n",
    "            # 随机选i个\n",
    "            # 随机选择训练集\n",
    "            sample_arg = random.sample(range(0,normalize_X.shape[0]),i)\n",
    "            sampleX = normalize_X[sample_arg,:]\n",
    "            sampley = y[sample_arg,:]\n",
    "            # 随机选择验证集\n",
    "            sample_arg = random.sample(range(0,normalize_Xval.shape[0]),i)\n",
    "            sampleXval = normalize_Xval[sample_arg,:]\n",
    "            sampleyval = yval[sample_arg,:]\n",
    "            \n",
    "            res = opt.minimize(fun=regularizedCost,x0=np.zeros(shape=(1,normalize_X.shape[1])),args=(sampleX,sampley,lambda_var),method='TNC',jac=regularizedGradient,options={'maxiter':400})\n",
    "            errorSample = res['fun']   # 训练集误差\n",
    "            errorValSample = regularizedCost(res['x'],sampleXval,sampleyval,lambda_var)  # 验证集误差\n",
    "            \n",
    "            sumErrorSample = sumErrorSample + errorSample\n",
    "            sumErrorValSample = sumErrorValSample + errorValSample\n",
    "        error[k] = sumErrorSample / repeated\n",
    "        errorVal[k] = sumErrorValSample / repeated\n",
    "        k = k+1\n",
    "    error = error.reshape(-1,)\n",
    "    errorVal = errorVal.reshape(-1,)\n",
    "    numbers = numbers.reshape(-1,)\n",
    "    return errorVal,error,numbers\n",
    "errorVal,error,numbers = randomLearningError(X,res,y,Xval,yval,lambda_var)"
   ]
  },
  {
   "cell_type": "code",
   "execution_count": 28,
   "metadata": {},
   "outputs": [
    {
     "data": {
      "image/png": "[encoded data removed]",
      "text/plain": [
       "<Figure size 432x288 with 1 Axes>"
      ]
     },
     "metadata": {
      "needs_background": "light"
     },
     "output_type": "display_data"
    }
   ],
   "source": [
    "def showFigure10(x,error,errorVal):\n",
    "    plt.plot(x,error,c='blue',label='Train')\n",
    "    plt.plot(x,errorVal,c='green',label='Cross Validation')\n",
    "    plt.xlabel('Number of training examples')\n",
    "    plt.ylabel('Error')\n",
    "    plt.title('Figure  10:   Optional  (ungraded)  exercise:   Learning  curve  with  randomlyselected examples',y = -0.3)\n",
    "    plt.legend()\n",
    "    plt.show()\n",
    "showFigure10(numbers,error,errorVal)"
   ]
  },
  {
   "cell_type": "markdown",
   "metadata": {},
   "source": [
    "加入随机选择后就看的更加靠谱了"
   ]
  },
  {
   "cell_type": "markdown",
   "metadata": {},
   "source": [
    "# END"
   ]
  }
 ],
 "metadata": {
  "kernelspec": {
   "display_name": "Python [conda env:CourseraMLAndrewNgmyNoteEnv] *",
   "language": "python",
   "name": "conda-env-CourseraMLAndrewNgmyNoteEnv-py"
  },
  "language_info": {
   "codemirror_mode": {
    "name": "ipython",
    "version": 3
   },
   "file_extension": ".py",
   "mimetype": "text/x-python",
   "name": "python",
   "nbconvert_exporter": "python",
   "pygments_lexer": "ipython3",
   "version": "3.6.12"
  }
 },
 "nbformat": 4,
 "nbformat_minor": 4
}
