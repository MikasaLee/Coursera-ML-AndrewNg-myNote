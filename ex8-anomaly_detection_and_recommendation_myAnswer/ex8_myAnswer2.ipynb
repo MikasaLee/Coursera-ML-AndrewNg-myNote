{
 "cells": [
  {
   "cell_type": "markdown",
   "id": "global-greeting",
   "metadata": {},
   "source": [
    "# 1-异常检测"
   ]
  },
  {
   "cell_type": "markdown",
   "id": "closed-attachment",
   "metadata": {},
   "source": [
    "## note:\n",
    "* [covariance matrix](http://docs.scipy.org/doc/numpy/reference/generated/numpy.cov.html)\n",
    "* [multivariate_normal](http://docs.scipy.org/doc/numpy/reference/generated/numpy.random.multivariate_normal.html)\n",
    "* [seaborn  bivariate kernel density estimate](https://stanford.edu/~mwaskom/software/seaborn/generated/seaborn.kdeplot.html#seaborn.kdeplot)"
   ]
  },
  {
   "cell_type": "code",
   "execution_count": 1,
   "id": "balanced-warren",
   "metadata": {},
   "outputs": [],
   "source": [
    "import matplotlib.pyplot as plt\n",
    "import seaborn as sns\n",
    "sns.set(context='notebook',style='white',palette=sns.color_palette(\"RdBu\"))\n",
    "import numpy as np\n",
    "import pandas as pd\n",
    "import scipy.io as scio\n",
    "from scipy import  stats\n",
    "from sklearn.model_selection import train_test_split"
   ]
  },
  {
   "cell_type": "markdown",
   "id": "funded-marina",
   "metadata": {},
   "source": [
    "You want to divide data into 3 set.\n",
    "\n",
    "    1. Training set\n",
    "    2. Cross Validation set\n",
    "    3. Test set.\n",
    "    \n",
    "You shouldn't be doing prediction using training data or Validation data as it does in the exercise."
   ]
  },
  {
   "cell_type": "code",
   "execution_count": 2,
   "id": "legislative-sampling",
   "metadata": {},
   "outputs": [
    {
     "data": {
      "text/plain": [
       "dict_keys(['__header__', '__version__', '__globals__', 'X', 'Xval', 'yval'])"
      ]
     },
     "execution_count": 2,
     "metadata": {},
     "output_type": "execute_result"
    }
   ],
   "source": [
    "mat = scio.loadmat('data/ex8data1.mat')\n",
    "mat.keys()"
   ]
  },
  {
   "cell_type": "code",
   "execution_count": 3,
   "id": "hidden-counter",
   "metadata": {},
   "outputs": [],
   "source": [
    "X = mat.get('X')"
   ]
  },
  {
   "cell_type": "markdown",
   "id": "seeing-tooth",
   "metadata": {},
   "source": [
    "divide original validation data into validation and test set"
   ]
  },
  {
   "cell_type": "code",
   "execution_count": 4,
   "id": "fitted-rachel",
   "metadata": {},
   "outputs": [],
   "source": [
    "Xval, Xtest, yval, ytest = train_test_split(mat.get('Xval'),\n",
    "                                            mat.get('yval').ravel(),\n",
    "                                            test_size=0.5)"
   ]
  },
  {
   "cell_type": "code",
   "execution_count": 5,
   "id": "experimental-party",
   "metadata": {},
   "outputs": [
    {
     "data": {
      "image/png": "[encoded data removed]",
      "text/plain": [
       "<Figure size 432x288 with 1 Axes>"
      ]
     },
     "metadata": {
      "needs_background": "light"
     },
     "output_type": "display_data"
    }
   ],
   "source": [
    "sns.regplot(x = 'Latency', y = 'Throughput',\n",
    "           data=pd.DataFrame(X, columns=['Latency', 'Throughput']), \n",
    "           fit_reg=False,\n",
    "           scatter_kws={\"s\":20,\n",
    "                        \"alpha\":0.5})\n",
    "plt.show()"
   ]
  },
  {
   "cell_type": "markdown",
   "id": "interstate-dress",
   "metadata": {},
   "source": [
    "## estimate multivariate Gaussian parameters 𝜇 and 𝜎2"
   ]
  },
  {
   "cell_type": "markdown",
   "id": "consolidated-carolina",
   "metadata": {},
   "source": [
    "> according to data, X1, and X2 is not independent"
   ]
  },
  {
   "cell_type": "code",
   "execution_count": 6,
   "id": "accessory-kernel",
   "metadata": {},
   "outputs": [
    {
     "name": "stdout",
     "output_type": "stream",
     "text": [
      "[14.11222578 14.99771051] \n",
      "\n",
      "[[ 1.83862041 -0.22786456]\n",
      " [-0.22786456  1.71533273]]\n"
     ]
    }
   ],
   "source": [
    "mu = X.mean(axis=0)\n",
    "print(mu, '\\n')\n",
    "\n",
    "cov = np.cov(X.T)\n",
    "print(cov)"
   ]
  },
  {
   "cell_type": "code",
   "execution_count": 7,
   "id": "earlier-montgomery",
   "metadata": {},
   "outputs": [
    {
     "data": {
      "text/plain": [
       "array([[[0, 0],\n",
       "        [0, 1],\n",
       "        [0, 2]],\n",
       "\n",
       "       [[1, 0],\n",
       "        [1, 1],\n",
       "        [1, 2]],\n",
       "\n",
       "       [[2, 0],\n",
       "        [2, 1],\n",
       "        [2, 2]]])"
      ]
     },
     "execution_count": 7,
     "metadata": {},
     "output_type": "execute_result"
    }
   ],
   "source": [
    "# example of creating 2d grid to calculate probability density\n",
    "np.dstack(np.mgrid[0:3,0:3])"
   ]
  },
  {
   "cell_type": "code",
   "execution_count": 8,
   "id": "substantial-satellite",
   "metadata": {},
   "outputs": [
    {
     "data": {
      "image/png": "[encoded data removed]",
      "text/plain": [
       "<Figure size 432x288 with 1 Axes>"
      ]
     },
     "metadata": {
      "needs_background": "light"
     },
     "output_type": "display_data"
    }
   ],
   "source": [
    "# create multi-var Gaussian model\n",
    "multi_normal = stats.multivariate_normal(mu, cov)\n",
    "\n",
    "# create a grid\n",
    "x, y = np.mgrid[0:30:0.01, 0:30:0.01]\n",
    "pos = np.dstack((x, y))\n",
    "\n",
    "fig, ax = plt.subplots()\n",
    "\n",
    "# plot probability density\n",
    "ax.contourf(x, y, multi_normal.pdf(pos), cmap='Blues')\n",
    "\n",
    "# plot original data points\n",
    "sns.regplot(x = 'Latency', y = 'Throughput',\n",
    "           data=pd.DataFrame(X, columns=['Latency', 'Throughput']), \n",
    "           fit_reg=False,\n",
    "           ax=ax,\n",
    "           scatter_kws={\"s\":10,\n",
    "                        \"alpha\":0.4})\n",
    "plt.show()"
   ]
  },
  {
   "cell_type": "markdown",
   "id": "mathematical-iraqi",
   "metadata": {},
   "source": [
    "## select threshold 𝜖"
   ]
  },
  {
   "cell_type": "code",
   "execution_count": 9,
   "id": "aggressive-campbell",
   "metadata": {},
   "outputs": [],
   "source": [
    "def select_threshold(X, Xval, yval):\n",
    "    \"\"\"use CV data to find the best epsilon\n",
    "    Returns:\n",
    "        e: best epsilon with the highest f-score\n",
    "        f-score: such best f-score\n",
    "    \"\"\"\n",
    "    # create multivariate model using training data\n",
    "    mu = X.mean(axis=0)\n",
    "    cov = np.cov(X.T)\n",
    "    multi_normal = stats.multivariate_normal(mu, cov)\n",
    "\n",
    "    # this is key, use CV data for fine tuning hyper parameters\n",
    "    pval = multi_normal.pdf(Xval)\n",
    "\n",
    "    # set up epsilon candidates\n",
    "    epsilon = np.linspace(np.min(pval), np.max(pval), num=10000)\n",
    "\n",
    "    # calculate f-score\n",
    "    fs = []\n",
    "    for e in epsilon:\n",
    "        y_pred = (pval <= e).astype('int')\n",
    "        fs.append(f1_score(yval, y_pred))\n",
    "\n",
    "    # find the best f-score\n",
    "    argmax_fs = np.argmax(fs)\n",
    "\n",
    "    return epsilon[argmax_fs], fs[argmax_fs]\n"
   ]
  },
  {
   "cell_type": "code",
   "execution_count": 10,
   "id": "lonely-source",
   "metadata": {},
   "outputs": [],
   "source": [
    "from sklearn.metrics import f1_score, classification_report"
   ]
  },
  {
   "cell_type": "code",
   "execution_count": 11,
   "id": "pursuant-planner",
   "metadata": {},
   "outputs": [
    {
     "name": "stdout",
     "output_type": "stream",
     "text": [
      "Best epsilon: 2.7101600950148493e-05\n",
      "Best F-score on validation data: 1.0\n"
     ]
    }
   ],
   "source": [
    "e, fs = select_threshold(X, Xval, yval)\n",
    "print('Best epsilon: {}\\nBest F-score on validation data: {}'.format(e, fs))"
   ]
  },
  {
   "cell_type": "markdown",
   "id": "derived-relay",
   "metadata": {},
   "source": [
    "## visualize prediction of Xval using learned 𝜖\n"
   ]
  },
  {
   "cell_type": "code",
   "execution_count": 12,
   "id": "continued-california",
   "metadata": {},
   "outputs": [],
   "source": [
    "def select_threshold(X, Xval, yval):\n",
    "    \"\"\"use CV data to find the best epsilon\n",
    "    Returns:\n",
    "        e: best epsilon with the highest f-score\n",
    "        f-score: such best f-score\n",
    "    \"\"\"\n",
    "    # create multivariate model using training data\n",
    "    mu = X.mean(axis=0)\n",
    "    cov = np.cov(X.T)\n",
    "    multi_normal = stats.multivariate_normal(mu, cov)\n",
    "\n",
    "    # this is key, use CV data for fine tuning hyper parameters\n",
    "    pval = multi_normal.pdf(Xval)\n",
    "\n",
    "    # set up epsilon candidates\n",
    "    epsilon = np.linspace(np.min(pval), np.max(pval), num=10000)\n",
    "\n",
    "    # calculate f-score\n",
    "    fs = []\n",
    "    for e in epsilon:\n",
    "        y_pred = (pval <= e).astype('int')\n",
    "        fs.append(f1_score(yval, y_pred))\n",
    "\n",
    "    # find the best f-score\n",
    "    argmax_fs = np.argmax(fs)\n",
    "\n",
    "    return epsilon[argmax_fs], fs[argmax_fs]\n",
    "\n",
    "\n",
    "def predict(X, Xval, e, Xtest, ytest):\n",
    "    \"\"\"with optimal epsilon, combine X, Xval and predict Xtest\n",
    "    Returns:\n",
    "        multi_normal: multivariate normal model\n",
    "        y_pred: prediction of test data\n",
    "    \"\"\"\n",
    "    Xdata = np.concatenate((X, Xval), axis=0)\n",
    "\n",
    "    mu = Xdata.mean(axis=0)\n",
    "    cov = np.cov(Xdata.T)\n",
    "    multi_normal = stats.multivariate_normal(mu, cov)\n",
    "\n",
    "    # calculate probability of test data\n",
    "    pval = multi_normal.pdf(Xtest)\n",
    "    y_pred = (pval <= e).astype('int')\n",
    "\n",
    "    print(classification_report(ytest, y_pred))\n",
    "\n",
    "    return multi_normal, y_pred\n"
   ]
  },
  {
   "cell_type": "code",
   "execution_count": 13,
   "id": "registered-mozambique",
   "metadata": {},
   "outputs": [
    {
     "name": "stdout",
     "output_type": "stream",
     "text": [
      "              precision    recall  f1-score   support\n",
      "\n",
      "           0       0.99      1.00      0.99       149\n",
      "           1       1.00      0.60      0.75         5\n",
      "\n",
      "    accuracy                           0.99       154\n",
      "   macro avg       0.99      0.80      0.87       154\n",
      "weighted avg       0.99      0.99      0.99       154\n",
      "\n"
     ]
    }
   ],
   "source": [
    "multi_normal, y_pred = predict(X, Xval, e, Xtest, ytest)"
   ]
  },
  {
   "cell_type": "code",
   "execution_count": 14,
   "id": "latest-module",
   "metadata": {},
   "outputs": [
    {
     "data": {
      "image/png": "[encoded data removed]",
      "text/plain": [
       "<Figure size 432x288 with 1 Axes>"
      ]
     },
     "metadata": {
      "needs_background": "light"
     },
     "output_type": "display_data"
    }
   ],
   "source": [
    "# construct test DataFrame\n",
    "data = pd.DataFrame(Xtest, columns=['Latency', 'Throughput'])\n",
    "data['y_pred'] = y_pred\n",
    "\n",
    "# create a grid for graphing\n",
    "x, y = np.mgrid[0:30:0.01, 0:30:0.01]\n",
    "pos = np.dstack((x, y))\n",
    "\n",
    "fig, ax = plt.subplots()\n",
    "\n",
    "# plot probability density\n",
    "ax.contourf(x, y, multi_normal.pdf(pos), cmap='Blues')\n",
    "\n",
    "# plot original Xval points\n",
    "sns.regplot(x = 'Latency', y = 'Throughput',\n",
    "            data=data,\n",
    "            fit_reg=False,\n",
    "            ax=ax,\n",
    "            scatter_kws={\"s\":10,\n",
    "                         \"alpha\":0.4})\n",
    "\n",
    "# mark the predicted anamoly of CV data. We should have a test set for this...\n",
    "anamoly_data = data[data['y_pred']==1]\n",
    "ax.scatter(anamoly_data['Latency'], anamoly_data['Throughput'], marker='x', s=50)\n",
    "plt.show()"
   ]
  },
  {
   "cell_type": "markdown",
   "id": "wrong-singapore",
   "metadata": {},
   "source": [
    "## high dimension data"
   ]
  },
  {
   "cell_type": "code",
   "execution_count": 15,
   "id": "creative-rogers",
   "metadata": {},
   "outputs": [],
   "source": [
    "mat = scio.loadmat('data/ex8data2.mat')"
   ]
  },
  {
   "cell_type": "code",
   "execution_count": 16,
   "id": "norwegian-shuttle",
   "metadata": {},
   "outputs": [],
   "source": [
    "X = mat.get('X')\n",
    "Xval, Xtest, yval, ytest = train_test_split(mat.get('Xval'),\n",
    "                                            mat.get('yval').ravel(),\n",
    "                                            test_size=0.5)"
   ]
  },
  {
   "cell_type": "code",
   "execution_count": 17,
   "id": "derived-convergence",
   "metadata": {},
   "outputs": [
    {
     "name": "stdout",
     "output_type": "stream",
     "text": [
      "Best epsilon: 1.7466747138403433e-19\n",
      "Best F-score on validation data: 0.8571428571428571\n"
     ]
    }
   ],
   "source": [
    "e, fs = select_threshold(X, Xval, yval)\n",
    "print('Best epsilon: {}\\nBest F-score on validation data: {}'.format(e, fs))"
   ]
  },
  {
   "cell_type": "code",
   "execution_count": 18,
   "id": "respective-orange",
   "metadata": {},
   "outputs": [
    {
     "name": "stdout",
     "output_type": "stream",
     "text": [
      "              precision    recall  f1-score   support\n",
      "\n",
      "           0       0.93      0.98      0.95        43\n",
      "           1       0.80      0.57      0.67         7\n",
      "\n",
      "    accuracy                           0.92        50\n",
      "   macro avg       0.87      0.77      0.81        50\n",
      "weighted avg       0.91      0.92      0.91        50\n",
      "\n"
     ]
    }
   ],
   "source": [
    "multi_normal, y_pred = predict(X, Xval, e, Xtest, ytest)"
   ]
  },
  {
   "cell_type": "code",
   "execution_count": 19,
   "id": "stretch-grill",
   "metadata": {},
   "outputs": [
    {
     "name": "stdout",
     "output_type": "stream",
     "text": [
      "find 5 anamolies\n"
     ]
    }
   ],
   "source": [
    "print('find {} anamolies'.format(y_pred.sum()))"
   ]
  },
  {
   "cell_type": "markdown",
   "id": "educational-sheet",
   "metadata": {},
   "source": [
    "# 2-推荐系统"
   ]
  },
  {
   "cell_type": "code",
   "execution_count": 20,
   "id": "frozen-director",
   "metadata": {},
   "outputs": [
    {
     "data": {
      "text/plain": [
       "((1682, 943), (1682, 943))"
      ]
     },
     "execution_count": 20,
     "metadata": {},
     "output_type": "execute_result"
    }
   ],
   "source": [
    "movies_mat = scio.loadmat('data/ex8_movies.mat')\n",
    "Y, R = movies_mat.get('Y'), movies_mat.get('R')\n",
    "\n",
    "Y.shape, R.shape"
   ]
  },
  {
   "cell_type": "code",
   "execution_count": 21,
   "id": "fifty-token",
   "metadata": {},
   "outputs": [],
   "source": [
    "m, u = Y.shape\n",
    "# m: how many movies\n",
    "# u: how many users\n",
    "\n",
    "n = 10  # how many features for a movie"
   ]
  },
  {
   "cell_type": "code",
   "execution_count": 22,
   "id": "horizontal-valuable",
   "metadata": {},
   "outputs": [
    {
     "data": {
      "text/plain": [
       "((943, 10), (1682, 10))"
      ]
     },
     "execution_count": 22,
     "metadata": {},
     "output_type": "execute_result"
    }
   ],
   "source": [
    "param_mat = scio.loadmat('./data/ex8_movieParams.mat')\n",
    "theta, X = param_mat.get('Theta'), param_mat.get('X')\n",
    "\n",
    "theta.shape, X.shape"
   ]
  },
  {
   "cell_type": "code",
   "execution_count": 23,
   "id": "industrial-patrol",
   "metadata": {},
   "outputs": [],
   "source": [
    "def serialize(X, theta):\n",
    "    \"\"\"serialize 2 matrix\n",
    "    \"\"\"\n",
    "    # X (movie, feature), (1682, 10): movie features\n",
    "    # theta (user, feature), (943, 10): user preference\n",
    "    return np.concatenate((X.ravel(), theta.ravel()))\n",
    "\n",
    "\n",
    "def deserialize(param, n_movie, n_user, n_features):\n",
    "    \"\"\"into ndarray of X(1682, 10), theta(943, 10)\"\"\"\n",
    "    return param[:n_movie * n_features].reshape(n_movie, n_features), \\\n",
    "           param[n_movie * n_features:].reshape(n_user, n_features)\n",
    "\n",
    "\n",
    "# recommendation fn\n",
    "def cost(param, Y, R, n_features):\n",
    "    \"\"\"compute cost for every r(i, j)=1\n",
    "    Args:\n",
    "        param: serialized X, theta\n",
    "        Y (movie, user), (1682, 943): (movie, user) rating\n",
    "        R (movie, user), (1682, 943): (movie, user) has rating\n",
    "    \"\"\"\n",
    "    # theta (user, feature), (943, 10): user preference\n",
    "    # X (movie, feature), (1682, 10): movie features\n",
    "    n_movie, n_user = Y.shape\n",
    "    X, theta = deserialize(param, n_movie, n_user, n_features)\n",
    "\n",
    "    inner = np.multiply(X @ theta.T - Y, R)\n",
    "\n",
    "    return np.power(inner, 2).sum() / 2\n",
    "\n",
    "\n",
    "def gradient(param, Y, R, n_features):\n",
    "    # theta (user, feature), (943, 10): user preference\n",
    "    # X (movie, feature), (1682, 10): movie features\n",
    "    n_movies, n_user = Y.shape\n",
    "    X, theta = deserialize(param, n_movies, n_user, n_features)\n",
    "\n",
    "    inner = np.multiply(X @ theta.T - Y, R)  # (1682, 943)\n",
    "\n",
    "    # X_grad (1682, 10)\n",
    "    X_grad = inner @ theta\n",
    "\n",
    "    # theta_grad (943, 10)\n",
    "    theta_grad = inner.T @ X\n",
    "\n",
    "    # roll them together and return\n",
    "    return serialize(X_grad, theta_grad)\n",
    "\n",
    "\n",
    "def regularized_cost(param, Y, R, n_features, l=1):\n",
    "    reg_term = np.power(param, 2).sum() * (l / 2)\n",
    "\n",
    "    return cost(param, Y, R, n_features) + reg_term\n",
    "\n",
    "\n",
    "def regularized_gradient(param, Y, R, n_features, l=1):\n",
    "    grad = gradient(param, Y, R, n_features)\n",
    "    reg_term = l * param\n",
    "\n",
    "    return grad + reg_term\n"
   ]
  },
  {
   "cell_type": "code",
   "execution_count": 24,
   "id": "polished-apollo",
   "metadata": {},
   "outputs": [
    {
     "data": {
      "text/plain": [
       "22.224603725685675"
      ]
     },
     "execution_count": 24,
     "metadata": {},
     "output_type": "execute_result"
    }
   ],
   "source": [
    "# use subset of data to calculate the cost as in pdf...\n",
    "users = 4\n",
    "movies = 5\n",
    "features = 3\n",
    "\n",
    "X_sub = X[:movies, :features]\n",
    "theta_sub = theta[:users, :features]\n",
    "Y_sub = Y[:movies, :users]\n",
    "R_sub = R[:movies, :users]\n",
    "\n",
    "param_sub = serialize(X_sub, theta_sub)\n",
    "cost(param_sub, Y_sub, R_sub, features)"
   ]
  },
  {
   "cell_type": "code",
   "execution_count": 25,
   "id": "outer-southwest",
   "metadata": {},
   "outputs": [
    {
     "data": {
      "text/plain": [
       "27918.64012454421"
      ]
     },
     "execution_count": 25,
     "metadata": {},
     "output_type": "execute_result"
    }
   ],
   "source": [
    "param = serialize(X, theta)  # total real params\n",
    "\n",
    "cost(serialize(X, theta), Y, R, 10)  # this is real total cost"
   ]
  },
  {
   "cell_type": "code",
   "execution_count": 26,
   "id": "complete-association",
   "metadata": {},
   "outputs": [],
   "source": [
    "n_movie, n_user = Y.shape\n",
    "\n",
    "X_grad, theta_grad = deserialize(gradient(param, Y, R, 10),\n",
    "                                      n_movie, n_user, 10)"
   ]
  },
  {
   "cell_type": "code",
   "execution_count": 27,
   "id": "cosmetic-baseball",
   "metadata": {},
   "outputs": [],
   "source": [
    "assert X_grad.shape == X.shape\n",
    "assert theta_grad.shape == theta.shape"
   ]
  },
  {
   "cell_type": "markdown",
   "id": "unauthorized-piano",
   "metadata": {},
   "source": [
    "## regularized cost"
   ]
  },
  {
   "cell_type": "code",
   "execution_count": 28,
   "id": "imperial-meter",
   "metadata": {},
   "outputs": [
    {
     "data": {
      "text/plain": [
       "31.34405624427422"
      ]
     },
     "execution_count": 28,
     "metadata": {},
     "output_type": "execute_result"
    }
   ],
   "source": [
    "# in the ex8_confi.m, lambda = 1.5, and it's using sub data set\n",
    "regularized_cost(param_sub, Y_sub, R_sub, features, l=1.5)"
   ]
  },
  {
   "cell_type": "code",
   "execution_count": 29,
   "id": "dirty-saturn",
   "metadata": {},
   "outputs": [
    {
     "data": {
      "text/plain": [
       "32520.682450229557"
      ]
     },
     "execution_count": 29,
     "metadata": {},
     "output_type": "execute_result"
    }
   ],
   "source": [
    "regularized_cost(param, Y, R, 10, l=1)  # total regularized cost"
   ]
  },
  {
   "cell_type": "markdown",
   "id": "rural-fashion",
   "metadata": {},
   "source": [
    "## regularized gradient"
   ]
  },
  {
   "cell_type": "code",
   "execution_count": 30,
   "id": "narrative-curtis",
   "metadata": {},
   "outputs": [],
   "source": [
    "n_movie, n_user = Y.shape\n",
    "\n",
    "X_grad, theta_grad = deserialize(regularized_gradient(param, Y, R, 10),\n",
    "                                                                n_movie, n_user, 10)\n",
    "\n",
    "assert X_grad.shape == X.shape\n",
    "assert theta_grad.shape == theta.shape"
   ]
  },
  {
   "cell_type": "markdown",
   "id": "random-force",
   "metadata": {},
   "source": [
    "## parse movie_id.txt"
   ]
  },
  {
   "cell_type": "code",
   "execution_count": 31,
   "id": "logical-ballot",
   "metadata": {},
   "outputs": [],
   "source": [
    "movie_list = []\n",
    "\n",
    "with open('./data/movie_ids.txt', encoding='latin-1') as f:\n",
    "    for line in f:\n",
    "        tokens = line.strip().split(' ')\n",
    "        movie_list.append(' '.join(tokens[1:]))\n",
    "\n",
    "movie_list = np.array(movie_list)"
   ]
  },
  {
   "cell_type": "markdown",
   "id": "concerned-denmark",
   "metadata": {},
   "source": [
    "## reproduce my ratings"
   ]
  },
  {
   "cell_type": "code",
   "execution_count": 32,
   "id": "fluid-tender",
   "metadata": {},
   "outputs": [],
   "source": [
    "ratings = np.zeros(1682)\n",
    "\n",
    "ratings[0] = 4\n",
    "ratings[6] = 3\n",
    "ratings[11] = 5\n",
    "ratings[53] = 4\n",
    "ratings[63] = 5\n",
    "ratings[65] = 3\n",
    "ratings[68] = 5\n",
    "ratings[97] = 2\n",
    "ratings[182] = 4\n",
    "ratings[225] = 5\n",
    "ratings[354] = 5"
   ]
  },
  {
   "cell_type": "markdown",
   "id": "afraid-architect",
   "metadata": {},
   "source": [
    "## prepare data"
   ]
  },
  {
   "cell_type": "code",
   "execution_count": 33,
   "id": "empirical-found",
   "metadata": {},
   "outputs": [
    {
     "data": {
      "text/plain": [
       "(1682, 944)"
      ]
     },
     "execution_count": 33,
     "metadata": {},
     "output_type": "execute_result"
    }
   ],
   "source": [
    "Y, R = movies_mat.get('Y'), movies_mat.get('R')\n",
    "\n",
    "\n",
    "Y = np.insert(Y, 0, ratings, axis=1)  # now I become user 0\n",
    "Y.shape"
   ]
  },
  {
   "cell_type": "code",
   "execution_count": 34,
   "id": "proof-lesson",
   "metadata": {},
   "outputs": [
    {
     "data": {
      "text/plain": [
       "(1682, 944)"
      ]
     },
     "execution_count": 34,
     "metadata": {},
     "output_type": "execute_result"
    }
   ],
   "source": [
    "R = np.insert(R, 0, ratings != 0, axis=1)\n",
    "R.shape"
   ]
  },
  {
   "cell_type": "code",
   "execution_count": 35,
   "id": "offshore-trading",
   "metadata": {},
   "outputs": [],
   "source": [
    "n_features = 50\n",
    "n_movie, n_user = Y.shape\n",
    "l = 10"
   ]
  },
  {
   "cell_type": "code",
   "execution_count": 36,
   "id": "vietnamese-column",
   "metadata": {},
   "outputs": [
    {
     "data": {
      "text/plain": [
       "((1682, 50), (944, 50))"
      ]
     },
     "execution_count": 36,
     "metadata": {},
     "output_type": "execute_result"
    }
   ],
   "source": [
    "X = np.random.standard_normal((n_movie, n_features))\n",
    "theta = np.random.standard_normal((n_user, n_features))\n",
    "\n",
    "X.shape, theta.shape"
   ]
  },
  {
   "cell_type": "code",
   "execution_count": 37,
   "id": "manufactured-musical",
   "metadata": {},
   "outputs": [],
   "source": [
    "param = serialize(X, theta)"
   ]
  },
  {
   "cell_type": "code",
   "execution_count": 38,
   "id": "rational-experiment",
   "metadata": {},
   "outputs": [
    {
     "data": {
      "text/plain": [
       "4.6862111343939375e-17"
      ]
     },
     "execution_count": 38,
     "metadata": {},
     "output_type": "execute_result"
    }
   ],
   "source": [
    "Y_norm = Y - Y.mean()  # 这不对吧？ 这难道不是每一行减去每一行的均值？\n",
    "Y_norm.mean()"
   ]
  },
  {
   "cell_type": "markdown",
   "id": "japanese-young",
   "metadata": {},
   "source": [
    "## training"
   ]
  },
  {
   "cell_type": "code",
   "execution_count": 39,
   "id": "viral-glory",
   "metadata": {},
   "outputs": [],
   "source": [
    "import scipy.optimize as opt"
   ]
  },
  {
   "cell_type": "code",
   "execution_count": 40,
   "id": "turkish-borough",
   "metadata": {},
   "outputs": [],
   "source": [
    "res = opt.minimize(fun=regularized_cost,\n",
    "                   x0=param,\n",
    "                   args=(Y_norm, R, n_features, l),\n",
    "                   method='TNC',\n",
    "                   jac=regularized_gradient)\n",
    "#这里很慢"
   ]
  },
  {
   "cell_type": "code",
   "execution_count": 41,
   "id": "discrete-broadway",
   "metadata": {},
   "outputs": [
    {
     "data": {
      "text/plain": [
       "     fun: 64721.49781507394\n",
       "     jac: array([-4.38222158e-07, -4.44211069e-07, -8.32598492e-07, ...,\n",
       "       -1.13460937e-06,  4.94501503e-07,  1.98054733e-06])\n",
       " message: 'Converged (|f_n-f_(n-1)| ~= 0)'\n",
       "    nfev: 2250\n",
       "     nit: 70\n",
       "  status: 1\n",
       " success: True\n",
       "       x: array([-0.23911949,  0.43254219, -0.62980559, ..., -0.46407341,\n",
       "        0.54977904, -0.17249486])"
      ]
     },
     "execution_count": 41,
     "metadata": {},
     "output_type": "execute_result"
    }
   ],
   "source": [
    "res"
   ]
  },
  {
   "cell_type": "code",
   "execution_count": 42,
   "id": "emotional-worker",
   "metadata": {},
   "outputs": [
    {
     "data": {
      "text/plain": [
       "((1682, 50), (944, 50))"
      ]
     },
     "execution_count": 42,
     "metadata": {},
     "output_type": "execute_result"
    }
   ],
   "source": [
    "X_trained, theta_trained = deserialize(res.x, n_movie, n_user, n_features)\n",
    "X_trained.shape, theta_trained.shape"
   ]
  },
  {
   "cell_type": "code",
   "execution_count": 43,
   "id": "raised-dylan",
   "metadata": {},
   "outputs": [],
   "source": [
    "prediction = X_trained @ theta_trained.T"
   ]
  },
  {
   "cell_type": "code",
   "execution_count": 44,
   "id": "through-noise",
   "metadata": {},
   "outputs": [],
   "source": [
    "my_preds = prediction[:, 0] + Y.mean()"
   ]
  },
  {
   "cell_type": "code",
   "execution_count": 45,
   "id": "missing-rates",
   "metadata": {},
   "outputs": [
    {
     "data": {
      "text/plain": [
       "(1682,)"
      ]
     },
     "execution_count": 45,
     "metadata": {},
     "output_type": "execute_result"
    }
   ],
   "source": [
    "idx = np.argsort(my_preds)[::-1]  # Descending order\n",
    "idx.shape"
   ]
  },
  {
   "cell_type": "code",
   "execution_count": 46,
   "id": "hollow-trash",
   "metadata": {},
   "outputs": [
    {
     "data": {
      "text/plain": [
       "array([4.12536264, 4.04411682, 3.99323832, 3.919028  , 3.81689385,\n",
       "       3.8155597 , 3.76602142, 3.76322068, 3.75903995, 3.75078894])"
      ]
     },
     "execution_count": 46,
     "metadata": {},
     "output_type": "execute_result"
    }
   ],
   "source": [
    "# top ten idx\n",
    "my_preds[idx][:10]"
   ]
  },
  {
   "cell_type": "code",
   "execution_count": 47,
   "id": "assumed-essay",
   "metadata": {},
   "outputs": [
    {
     "name": "stdout",
     "output_type": "stream",
     "text": [
      "Titanic (1997)\n",
      "Star Wars (1977)\n",
      "Shawshank Redemption, The (1994)\n",
      "Forrest Gump (1994)\n",
      "Raiders of the Lost Ark (1981)\n",
      "Braveheart (1995)\n",
      "Return of the Jedi (1983)\n",
      "Usual Suspects, The (1995)\n",
      "Godfather, The (1972)\n",
      "Schindler's List (1993)\n"
     ]
    }
   ],
   "source": [
    "for m in movie_list[idx][:10]:\n",
    "    print(m)"
   ]
  }
 ],
 "metadata": {
  "kernelspec": {
   "display_name": "Python [conda env:CourseraMLAndrewNgmyNoteEnv] *",
   "language": "python",
   "name": "conda-env-CourseraMLAndrewNgmyNoteEnv-py"
  },
  "language_info": {
   "codemirror_mode": {
    "name": "ipython",
    "version": 3
   },
   "file_extension": ".py",
   "mimetype": "text/x-python",
   "name": "python",
   "nbconvert_exporter": "python",
   "pygments_lexer": "ipython3",
   "version": "3.6.13"
  }
 },
 "nbformat": 4,
 "nbformat_minor": 5
}
