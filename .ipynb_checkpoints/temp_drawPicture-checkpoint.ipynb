{
 "cells": [
  {
   "cell_type": "code",
   "execution_count": 1,
   "metadata": {},
   "outputs": [],
   "source": [
    "import matplotlib.pyplot as plt"
   ]
  },
  {
   "cell_type": "code",
   "execution_count": 2,
   "metadata": {},
   "outputs": [
    {
     "data": {
      "text/plain": [
       "(30, 30)"
      ]
     },
     "execution_count": 2,
     "metadata": {},
     "output_type": "execute_result"
    }
   ],
   "source": [
    "x = [1,2,3,4,5,6,7,8,9,10,11,12,13,14,15,16,17,18,19,20,21,22,23,24,25,26,27,28,29,30]\n",
    "y = [15,13,12.3,12.29,12.27,12.26,12.083,12.256,12.058,12.257,12.199,12.203,12.199,12.155,12.147,12.133,12.121,11.996,11.986,11.977,11.966,11.954,11.94,11.93,11.92,11.91,11.9,11.89,11.88,11.87]\n",
    "len(x),len(y)"
   ]
  },
  {
   "cell_type": "code",
   "execution_count": 3,
   "metadata": {},
   "outputs": [
    {
     "data": {
      "image/png": "[encoded data removed]",
      "text/plain": [
       "<Figure size 216x432 with 1 Axes>"
      ]
     },
     "metadata": {
      "needs_background": "light"
     },
     "output_type": "display_data"
    }
   ],
   "source": [
    "plt.figure(figsize=(3,6))\n",
    "linewidth_val = 0.1\n",
    "yscale = [0,10,20,30,40,50,60]\n",
    "xscale = [0,10,20,30]\n",
    "for i in xscale:\n",
    "    plt.axvline(x = i,c='black',linewidth=linewidth_val)\n",
    "for i in yscale:\n",
    "    plt.axhline(y = i,c='black',linewidth=linewidth_val)\n",
    "\n",
    "\n",
    "plt.plot(x,y,'.-',label='one')\n",
    "plt.ylim(ymax=60,ymin=0)\n",
    "plt.xlim(xmax=30,xmin=0)\n",
    "ax=plt.gca();\n",
    "linewidth_val = 2\n",
    "ax.spines['bottom'].set_linewidth(linewidth_val);###设置底部坐标轴的粗细\n",
    "ax.spines['bottom'].set_color('gray')\n",
    "ax.spines['left'].set_linewidth(linewidth_val);####设置左边坐标轴的粗细\n",
    "ax.spines['left'].set_color('gray')\n",
    "linewidth_val = 0.1\n",
    "ax.spines['right'].set_linewidth(linewidth_val);###设置右边坐标轴的粗细\n",
    "ax.spines['right'].set_color('gray')\n",
    "ax.spines['top'].set_linewidth(linewidth_val);####设置上部坐标轴的粗细\n",
    "ax.spines['top'].set_color('gray')\n",
    "plt.legend(loc=1,frameon=False)\n",
    "plt.show()"
   ]
  },
  {
   "cell_type": "code",
   "execution_count": null,
   "metadata": {},
   "outputs": [],
   "source": []
  }
 ],
 "metadata": {
  "kernelspec": {
   "display_name": "Python [conda env:CourseraMLAndrewNgmyNoteEnv] *",
   "language": "python",
   "name": "conda-env-CourseraMLAndrewNgmyNoteEnv-py"
  },
  "language_info": {
   "codemirror_mode": {
    "name": "ipython",
    "version": 3
   },
   "file_extension": ".py",
   "mimetype": "text/x-python",
   "name": "python",
   "nbconvert_exporter": "python",
   "pygments_lexer": "ipython3",
   "version": "3.6.12"
  }
 },
 "nbformat": 4,
 "nbformat_minor": 4
}
