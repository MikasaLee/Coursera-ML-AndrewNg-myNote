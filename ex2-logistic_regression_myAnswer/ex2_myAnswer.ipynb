{
 "cells": [
  {
   "cell_type": "markdown",
   "metadata": {},
   "source": [
    "+ 不要用 * ，矩阵乘就是 np.dot,元素乘就是np.multiply。不要用*，这玩意有二义性"
   ]
  },
  {
   "cell_type": "code",
   "execution_count": 1,
   "metadata": {},
   "outputs": [],
   "source": [
    "import numpy as np\n",
    "import pandas as pd\n",
    "import matplotlib.pyplot as plt"
   ]
  },
  {
   "cell_type": "markdown",
   "metadata": {},
   "source": [
    "# 1  Logistic Regression"
   ]
  },
  {
   "cell_type": "markdown",
   "metadata": {},
   "source": [
    "## 1.1  Visualizing the data"
   ]
  },
  {
   "cell_type": "code",
   "execution_count": 2,
   "metadata": {
    "code_folding": []
   },
   "outputs": [
    {
     "name": "stdout",
     "output_type": "stream",
     "text": [
      "   exam1_score  exam2_score  isAdmitted\n",
      "0    34.623660    78.024693           0\n",
      "1    30.286711    43.894998           0\n",
      "2    35.847409    72.902198           0\n",
      "3    60.182599    86.308552           1\n",
      "4    79.032736    75.344376           1\n",
      "   exam1_score  exam2_score  isAdmitted\n",
      "3    60.182599    86.308552           1\n",
      "4    79.032736    75.344376           1\n",
      "6    61.106665    96.511426           1\n",
      "7    75.024746    46.554014           1\n",
      "8    76.098787    87.420570           1\n",
      "    exam1_score  exam2_score  isAdmitted\n",
      "0     34.623660    78.024693           0\n",
      "1     30.286711    43.894998           0\n",
      "2     35.847409    72.902198           0\n",
      "5     45.083277    56.316372           0\n",
      "10    95.861555    38.225278           0\n"
     ]
    }
   ],
   "source": [
    "fpath = 'ex2data1.txt'\n",
    "data1 = pd.read_csv(\n",
    "    fpath,\n",
    "    sep=',',\n",
    "    header=None,\n",
    "    names=['exam1_score','exam2_score','isAdmitted'])\n",
    "data1_admitted = data1.loc[data1['isAdmitted'] == 1,:]\n",
    "data1_noadmitted = data1.loc[data1['isAdmitted'] == 0,:]\n",
    "\n",
    "print(\n",
    "    data1.head(),\n",
    "    data1_admitted.head(),\n",
    "    data1_noadmitted.head(),sep='\\n')"
   ]
  },
  {
   "cell_type": "code",
   "execution_count": 3,
   "metadata": {},
   "outputs": [
    {
     "data": {
      "image/png": "[encoded data removed]",
      "text/plain": [
       "<Figure size 432x288 with 1 Axes>"
      ]
     },
     "metadata": {
      "needs_background": "light"
     },
     "output_type": "display_data"
    }
   ],
   "source": [
    "plt.scatter(data1_admitted['exam1_score'],data1_admitted['exam2_score'],marker='+',label='admitted')\n",
    "plt.scatter(data1_noadmitted['exam1_score'],data1_noadmitted['exam2_score'],marker='o',label='Not admitted')\n",
    "plt.xlabel('Exam 1 score')\n",
    "plt.ylabel('Exam 2 score')\n",
    "plt.title('Figure 1:  Scatter plot of training data',y=-0.3)\n",
    "plt.legend(loc=1)\n",
    "plt.show()"
   ]
  },
  {
   "cell_type": "markdown",
   "metadata": {},
   "source": [
    "## 1.2  Implementation"
   ]
  },
  {
   "cell_type": "markdown",
   "metadata": {},
   "source": [
    "### 1.2.1  Warmup exercise: sigmoid function"
   ]
  },
  {
   "cell_type": "code",
   "execution_count": 4,
   "metadata": {},
   "outputs": [
    {
     "name": "stdout",
     "output_type": "stream",
     "text": [
      "0.5\n",
      "[[0.5 0.5]\n",
      " [0.5 0.5]]\n"
     ]
    }
   ],
   "source": [
    "def sigmoidFunction(x):\n",
    "    return  1/(1+np.exp(-x))\n",
    "print(sigmoidFunction(0),sigmoidFunction(np.matrix(np.zeros(shape=(2,2)))),sep='\\n')"
   ]
  },
  {
   "cell_type": "markdown",
   "metadata": {},
   "source": [
    "### 1.2.2  Cost function and gradient"
   ]
  },
  {
   "cell_type": "code",
   "execution_count": 5,
   "metadata": {},
   "outputs": [],
   "source": [
    "def costFunction(theta,X,y): # 注意顺序，本来参数顺序无所谓的，但是下面 op.minimize 拟合的时候需要注重参数的位置，所以顺序成了 theta,X,y了\n",
    "    m = X.shape[0]\n",
    "    # log 的底数？\n",
    "    return (-y.T.dot(np.log(sigmoidFunction(X.dot(theta)))) - (1-y).T.dot(np.log(1 - sigmoidFunction(X.dot(theta))))) / m"
   ]
  },
  {
   "cell_type": "code",
   "execution_count": 6,
   "metadata": {},
   "outputs": [],
   "source": [
    "data1.insert(0,'ones',1)\n",
    "cols = data1.shape[1]\n",
    "X = np.matrix(data1.iloc[:,0:cols - 1])\n",
    "y = np.matrix(data1.iloc[:,cols-1:cols])\n",
    "theta = np.matrix(np.zeros(shape=(cols-1,1)))"
   ]
  },
  {
   "cell_type": "code",
   "execution_count": 7,
   "metadata": {},
   "outputs": [
    {
     "name": "stdout",
     "output_type": "stream",
     "text": [
      "[[0.69314718]]\n"
     ]
    }
   ],
   "source": [
    "print(costFunction(theta,X,y))"
   ]
  },
  {
   "cell_type": "markdown",
   "metadata": {},
   "source": [
    "  虽然没要求，不过还是写出来梯度下降函数，但是很遗憾的是不能用，原因为用梯度下降算出来的 theta（我也不知道是否正确），无法计算其 costFunction，原因在于 sigmoidFunction 由于有np.exp()，所以经常得到的结果为0，然而0又不能带入到 log 中，所以出错。\n",
    "  \n",
    "  当然也有可能是我的思路或者代码问题。。总之这里我用梯度下降算出的 theta 无法保证正确。\n",
    "  \n",
    "  --\n",
    "  \n",
    "  2021-1-22 更新：\n",
    "  在下文通过 gradientDescent2 函数的测试，发现其实是 alpha 的值太大了导致 costJ 发散，alpha只能为10$^{-3}$这一量级以及以下。。 比这个量级高的都发散了。。"
   ]
  },
  {
   "cell_type": "code",
   "execution_count": 8,
   "metadata": {},
   "outputs": [],
   "source": [
    "# 梯度下降函数，但是不能用 --> 能用了。。。之前学习率太大并且循环次数太小了。。。\n",
    "def gradientDescent(theta,X,y,alpha,iters):\n",
    "    m,n = X.shape\n",
    "    for k in range(iters):\n",
    "        new_theta = np.matrix(np.zeros(shape=(n,1)))\n",
    "        new_theta = theta - alpha/m * ( X.T.dot(sigmoidFunction(X.dot(theta)) - y) )\n",
    "        theta = new_theta\n",
    "    return theta,costFunction(theta,X,y)   # costFunction(X,y,theta) 报错。。"
   ]
  },
  {
   "cell_type": "code",
   "execution_count": 9,
   "metadata": {},
   "outputs": [
    {
     "name": "stdout",
     "output_type": "stream",
     "text": [
      "[[-19.37101227]\n",
      " [  0.15996447]\n",
      " [  0.154604  ]] [[0.20970157]]\n"
     ]
    }
   ],
   "source": [
    "theta = np.matrix(np.zeros(shape=(cols-1,1)))\n",
    "theta,costF = gradientDescent(theta,X,y,0.003,400000) \n",
    "print(theta,costF)"
   ]
  },
  {
   "cell_type": "markdown",
   "metadata": {},
   "source": [
    "不过注意作业，让算的是**梯度函数(也就是只算偏导数)**"
   ]
  },
  {
   "cell_type": "code",
   "execution_count": 10,
   "metadata": {},
   "outputs": [],
   "source": [
    "def gradient(theta,X,y):\n",
    "    m,n = X.shape\n",
    "    theta = theta.reshape(n,1)        # !!!!! 相当重要，太重要了，就在这坑的，没有的话 theta.shape 会变成 (3,)\n",
    "    return (X.T.dot(sigmoidFunction(X.dot(theta)) - y))/m"
   ]
  },
  {
   "cell_type": "markdown",
   "metadata": {},
   "source": [
    "### 1.2.3  Learning parameters usingfminunc"
   ]
  },
  {
   "cell_type": "markdown",
   "metadata": {},
   "source": [
    "+ 参考：[Python fminunc 的替代方法](https://blog.csdn.net/csdn_inside/article/details/81558079)"
   ]
  },
  {
   "cell_type": "code",
   "execution_count": 11,
   "metadata": {},
   "outputs": [],
   "source": [
    "import scipy.optimize as op"
   ]
  },
  {
   "cell_type": "code",
   "execution_count": 12,
   "metadata": {},
   "outputs": [
    {
     "name": "stdout",
     "output_type": "stream",
     "text": [
      "     fun: array([0.2034977])\n",
      "     jac: array([[9.14875519e-09],\n",
      "       [9.99037356e-08],\n",
      "       [4.79345707e-07]])\n",
      " message: 'Local minimum reached (|pg| ~= 0)'\n",
      "    nfev: 36\n",
      "     nit: 17\n",
      "  status: 0\n",
      " success: True\n",
      "       x: array([-25.16131853,   0.20623159,   0.20147149])\n"
     ]
    }
   ],
   "source": [
    "# op.minimize 的参数x0,args需要转成 np.ndarray，而不能是np.matrix\n",
    "X = np.array(X)\n",
    "y = np.array(y)\n",
    "theta = np.array(np.matrix(np.zeros(shape=(cols-1,1))))\n",
    "res = op.minimize(fun=costFunction, x0=theta, args=(X, y), method='TNC', jac=gradient)\n",
    "print(res)"
   ]
  },
  {
   "cell_type": "markdown",
   "metadata": {},
   "source": [
    "  上面内篇博文最后提到了其实梯度下降也可以，但是需要一个好的学习率，而且终止条件改成判断J的值"
   ]
  },
  {
   "cell_type": "code",
   "execution_count": 13,
   "metadata": {},
   "outputs": [],
   "source": [
    "# gradientDescent:版本2\n",
    "def gradientDescent2(theta,X,y,alpha):\n",
    "    m,n = X.shape\n",
    "    costJ = 1\n",
    "    i = 0       # 好奇，看下循环次数\n",
    "    while costJ > 0.21:\n",
    "        new_theta = np.matrix(np.zeros(shape=(n,1)))\n",
    "        new_theta = theta - alpha/m * ( X.T.dot(sigmoidFunction(X.dot(theta)) - y) )\n",
    "        theta = new_theta\n",
    "        costJ = costFunction(theta,X,y)\n",
    "        i = i + 1\n",
    "    return i,theta,costJ   # costFunion(X,y,theta) 报错。。"
   ]
  },
  {
   "cell_type": "code",
   "execution_count": 14,
   "metadata": {},
   "outputs": [],
   "source": [
    "X = np.matrix(data1.iloc[:,0:cols - 1])\n",
    "y = np.matrix(data1.iloc[:,cols-1:cols])\n",
    "theta = np.matrix(np.zeros(shape=(cols-1,1)))\n",
    "i,theta,costJ = gradientDescent2(theta,X,y,0.003)    # alpha = 0.001 -> iters = 206,5035 ; alpha = 0.003 -> iters = 383261 ;只能到这一量级,alpha = 0.01的话就发散了"
   ]
  },
  {
   "cell_type": "markdown",
   "metadata": {},
   "source": [
    "将 h_theta 函数画在图上：其实就是找h_theta = 0.5 时的边界，当 h_theta = 0.5时，其方程化简为 theta.T.dot(x) = 0"
   ]
  },
  {
   "cell_type": "markdown",
   "metadata": {},
   "source": [
    "需要注意的就是使用哪个 theta，是 gradientDescent,还是 gradientDescent2,还是 op.minimize。\n",
    "\n",
    "按照作业需求应该用minimize，当然其实差别没那么大。"
   ]
  },
  {
   "cell_type": "code",
   "execution_count": 15,
   "metadata": {},
   "outputs": [
    {
     "data": {
      "image/png": "[encoded data removed]",
      "text/plain": [
       "<Figure size 432x288 with 1 Axes>"
      ]
     },
     "metadata": {
      "needs_background": "light"
     },
     "output_type": "display_data"
    }
   ],
   "source": [
    "theta = np.matrix(res.x)\n",
    "theta = theta.T\n",
    "x1 = np.linspace(data1['exam1_score'].min(),data1['exam1_score'].max(),2)\n",
    "x2 = (-theta[0,0]-theta[1,0]*x1)/theta[2,0]\n",
    "plt.plot(x1,x2)\n",
    "plt.scatter(data1_admitted['exam1_score'],data1_admitted['exam2_score'],marker='+',label='admitted')\n",
    "plt.scatter(data1_noadmitted['exam1_score'],data1_noadmitted['exam2_score'],marker='o',label='Not admitted')\n",
    "plt.xlabel('Exam 1 score')\n",
    "plt.ylabel('Exam 2 score')\n",
    "plt.title('Figure 2:  Training data with decision boundary',y=-0.3)\n",
    "plt.legend(loc=1)\n",
    "plt.show()"
   ]
  },
  {
   "cell_type": "markdown",
   "metadata": {},
   "source": [
    "### 1.2.4  Evaluating logistic regression"
   ]
  },
  {
   "cell_type": "markdown",
   "metadata": {},
   "source": [
    "第一种评估方法：you can use the model to predict whether aparticular  student  will  be  admitted.   For  a  student  with  an  Exam  1  scoreof  45  and  an  Exam  2  score  of  85,  you  should  expect  to  see  an  admissionprobability of 0.776."
   ]
  },
  {
   "cell_type": "code",
   "execution_count": 16,
   "metadata": {},
   "outputs": [
    {
     "data": {
      "text/plain": [
       "matrix([[0.77629062]])"
      ]
     },
     "execution_count": 16,
     "metadata": {},
     "output_type": "execute_result"
    }
   ],
   "source": [
    "x = np.matrix([1,45,85])\n",
    "sigmoidFunction(x.dot(theta))"
   ]
  },
  {
   "cell_type": "markdown",
   "metadata": {},
   "source": [
    "第二种评估方法：查看与原始数据相比的正确率"
   ]
  },
  {
   "cell_type": "code",
   "execution_count": 17,
   "metadata": {},
   "outputs": [],
   "source": [
    "def predict(theta,X):\n",
    "    predictions = sigmoidFunction(X.dot(theta))\n",
    "    return [1 if x > 0.5 else 0 for x in predictions]"
   ]
  },
  {
   "cell_type": "code",
   "execution_count": 18,
   "metadata": {},
   "outputs": [
    {
     "name": "stdout",
     "output_type": "stream",
     "text": [
      "精确度：0.89\n"
     ]
    }
   ],
   "source": [
    "theta = np.matrix(res.x).T\n",
    "predictions = np.matrix(predict(theta,X))\n",
    "predictions = predictions.reshape(100,1)\n",
    "correct = y - predictions\n",
    "print('精确度：'+ str(sum(correct == 0)[0,0] / len(correct)))"
   ]
  },
  {
   "cell_type": "markdown",
   "metadata": {},
   "source": [
    "# 2  Regularized logistic regression"
   ]
  },
  {
   "cell_type": "markdown",
   "metadata": {},
   "source": [
    "2021-1-23：说实话到目前为止只是听懂了正则化的意义是为了解决**过拟合**和**欠拟合**的问题，但并没有理解了为什么要对所有的 theta(当然除了theta0) 进行相同程度的正则化，如果只是为了减轻权重的话那相同程度的缩放每个theta的权重应该不会变啊。"
   ]
  },
  {
   "cell_type": "markdown",
   "metadata": {},
   "source": [
    "## 2.1  Visualizing the data"
   ]
  },
  {
   "cell_type": "code",
   "execution_count": 19,
   "metadata": {},
   "outputs": [
    {
     "data": {
      "text/html": [
       "<div>\n",
       "<style scoped>\n",
       "    .dataframe tbody tr th:only-of-type {\n",
       "        vertical-align: middle;\n",
       "    }\n",
       "\n",
       "    .dataframe tbody tr th {\n",
       "        vertical-align: top;\n",
       "    }\n",
       "\n",
       "    .dataframe thead th {\n",
       "        text-align: right;\n",
       "    }\n",
       "</style>\n",
       "<table border=\"1\" class=\"dataframe\">\n",
       "  <thead>\n",
       "    <tr style=\"text-align: right;\">\n",
       "      <th></th>\n",
       "      <th>Microchip Test 1</th>\n",
       "      <th>Microchip Test 2</th>\n",
       "      <th>isAccepted</th>\n",
       "    </tr>\n",
       "  </thead>\n",
       "  <tbody>\n",
       "    <tr>\n",
       "      <th>0</th>\n",
       "      <td>0.051267</td>\n",
       "      <td>0.69956</td>\n",
       "      <td>1</td>\n",
       "    </tr>\n",
       "    <tr>\n",
       "      <th>1</th>\n",
       "      <td>-0.092742</td>\n",
       "      <td>0.68494</td>\n",
       "      <td>1</td>\n",
       "    </tr>\n",
       "    <tr>\n",
       "      <th>2</th>\n",
       "      <td>-0.213710</td>\n",
       "      <td>0.69225</td>\n",
       "      <td>1</td>\n",
       "    </tr>\n",
       "    <tr>\n",
       "      <th>3</th>\n",
       "      <td>-0.375000</td>\n",
       "      <td>0.50219</td>\n",
       "      <td>1</td>\n",
       "    </tr>\n",
       "    <tr>\n",
       "      <th>4</th>\n",
       "      <td>-0.513250</td>\n",
       "      <td>0.46564</td>\n",
       "      <td>1</td>\n",
       "    </tr>\n",
       "  </tbody>\n",
       "</table>\n",
       "</div>"
      ],
      "text/plain": [
       "   Microchip Test 1  Microchip Test 2  isAccepted\n",
       "0          0.051267           0.69956           1\n",
       "1         -0.092742           0.68494           1\n",
       "2         -0.213710           0.69225           1\n",
       "3         -0.375000           0.50219           1\n",
       "4         -0.513250           0.46564           1"
      ]
     },
     "execution_count": 19,
     "metadata": {},
     "output_type": "execute_result"
    }
   ],
   "source": [
    "fpath = 'ex2data2.txt'\n",
    "data2 = pd.read_csv(fpath,header=None,sep=',',names=['Microchip Test 1','Microchip Test 2','isAccepted'])\n",
    "data2.head()"
   ]
  },
  {
   "cell_type": "code",
   "execution_count": 20,
   "metadata": {},
   "outputs": [
    {
     "name": "stdout",
     "output_type": "stream",
     "text": [
      "   Microchip Test 1  Microchip Test 2  isAccepted\n",
      "0          0.051267           0.69956           1\n",
      "1         -0.092742           0.68494           1\n",
      "2         -0.213710           0.69225           1\n",
      "3         -0.375000           0.50219           1\n",
      "4         -0.513250           0.46564           1\n",
      "    Microchip Test 1  Microchip Test 2  isAccepted\n",
      "58           0.18376           0.93348           0\n",
      "59           0.22408           0.77997           0\n",
      "60           0.29896           0.61915           0\n",
      "61           0.50634           0.75804           0\n",
      "62           0.61578           0.72880           0\n"
     ]
    }
   ],
   "source": [
    "data2_accepted = data2.loc[data2['isAccepted'] == 1,:]\n",
    "data2_rejected = data2.loc[data2['isAccepted'] == 0,:]\n",
    "print(data2_accepted.head(),data2_rejected.head(),sep='\\n')"
   ]
  },
  {
   "cell_type": "code",
   "execution_count": 21,
   "metadata": {},
   "outputs": [
    {
     "data": {
      "image/png": "[encoded data removed]",
      "text/plain": [
       "<Figure size 432x288 with 1 Axes>"
      ]
     },
     "metadata": {
      "needs_background": "light"
     },
     "output_type": "display_data"
    }
   ],
   "source": [
    "plt.scatter(data2_accepted['Microchip Test 1'],data2_accepted['Microchip Test 2'],marker='+',label='y = 1,Accepted')\n",
    "plt.scatter(data2_rejected['Microchip Test 1'],data2_rejected['Microchip Test 2'],marker='o',label='y = 0,Rejected')\n",
    "plt.xlabel('Microchip Test 1')\n",
    "plt.ylabel('Microchip Test 2')\n",
    "plt.title('Figure 3:  Plot of training data',y=-0.3)\n",
    "plt.legend(loc=1)\n",
    "plt.show()"
   ]
  },
  {
   "cell_type": "markdown",
   "metadata": {},
   "source": [
    "## 2.2  Feature mapping"
   ]
  },
  {
   "cell_type": "markdown",
   "metadata": {},
   "source": [
    "we will map the features into all polynomial terms of x1 and x2 up to the sixth power \n",
    "\n",
    "The result is a 28-dimensional vector"
   ]
  },
  {
   "cell_type": "code",
   "execution_count": 22,
   "metadata": {},
   "outputs": [],
   "source": [
    "# 对 data 进行加工\n",
    "def mapFeature(data,n):\n",
    "    data.insert(0,'ones',1)\n",
    "    cols = data2.shape[1]\n",
    "    X = data.iloc[:,0:cols-1]\n",
    "    y = data.iloc[:,cols-1:cols]\n",
    "    for i in range(2,n+1):\n",
    "        for j in range(i+1):\n",
    "            X.loc[:,'x1^'+str(j)+\" * \"+'x2^'+str(i-j)] = np.multiply(np.power(X.iloc[:,1],j),np.power(X.iloc[:,2],i-j))\n",
    "    X = np.matrix(X)\n",
    "    y = np.matrix(y)\n",
    "    theta = np.matrix(np.zeros(shape=(X.shape[1],1)))\n",
    "    return theta,X,y"
   ]
  },
  {
   "cell_type": "code",
   "execution_count": 23,
   "metadata": {},
   "outputs": [
    {
     "name": "stdout",
     "output_type": "stream",
     "text": [
      "(28, 1) (118, 28) (118, 1)\n"
     ]
    }
   ],
   "source": [
    "theta,X,y = mapFeature(data2,6)\n",
    "print(theta.shape,X.shape,y.shape)"
   ]
  },
  {
   "cell_type": "markdown",
   "metadata": {},
   "source": [
    "## 2.3  Cost function and gradient"
   ]
  },
  {
   "cell_type": "code",
   "execution_count": 24,
   "metadata": {},
   "outputs": [
    {
     "data": {
      "text/plain": [
       "matrix([[0.69314718]])"
      ]
     },
     "execution_count": 24,
     "metadata": {},
     "output_type": "execute_result"
    }
   ],
   "source": [
    "lambda_var = 0 \n",
    "def regularizedCostFunction(theta,X,y,lambda_var):\n",
    "    m,n = X.shape\n",
    "    theta = theta.reshape(n,1)     # 以防万一改了 theta.shape\n",
    "    return costFunction(theta,X,y) + lambda_var/(2*m) * theta.T.dot(theta)\n",
    "regularizedCostFunction(theta,X,y,lambda_var)"
   ]
  },
  {
   "cell_type": "code",
   "execution_count": 25,
   "metadata": {},
   "outputs": [],
   "source": [
    "def regularizedGradient(theta,X,y,lambda_var):\n",
    "    m,n = X.shape\n",
    "    theta = theta.reshape(n,1)     # 同以防万一\n",
    "    temp_theta = theta.copy()\n",
    "    temp_theta[0] = 0\n",
    "    return gradient(theta,X,y) + lambda_var/m * temp_theta"
   ]
  },
  {
   "cell_type": "code",
   "execution_count": 26,
   "metadata": {},
   "outputs": [
    {
     "data": {
      "text/plain": [
       "matrix([[8.47457627e-03],\n",
       "        [1.87880932e-02],\n",
       "        [7.77711864e-05],\n",
       "        [3.76648474e-02],\n",
       "        [1.15013308e-02],\n",
       "        [5.03446395e-02],\n",
       "        [2.34764889e-02],\n",
       "        [8.19244468e-03],\n",
       "        [7.32393391e-03],\n",
       "        [1.83559872e-02],\n",
       "        [3.93028171e-02],\n",
       "        [3.09593720e-03],\n",
       "        [1.28600503e-02],\n",
       "        [2.23923907e-03],\n",
       "        [3.93486234e-02],\n",
       "        [3.10079849e-02],\n",
       "        [4.47629067e-03],\n",
       "        [5.83822078e-03],\n",
       "        [3.38643902e-03],\n",
       "        [4.32983232e-03],\n",
       "        [1.99707467e-02],\n",
       "        [3.87936363e-02],\n",
       "        [1.37646175e-03],\n",
       "        [7.26504316e-03],\n",
       "        [4.08503006e-04],\n",
       "        [6.31570797e-03],\n",
       "        [1.09740238e-03],\n",
       "        [3.10312442e-02]])"
      ]
     },
     "execution_count": 26,
     "metadata": {},
     "output_type": "execute_result"
    }
   ],
   "source": [
    "regularizedGradient(theta,X,y,lambda_var)"
   ]
  },
  {
   "cell_type": "markdown",
   "metadata": {},
   "source": [
    "### 2.3.1  Learning parameters usingfminunc"
   ]
  },
  {
   "cell_type": "code",
   "execution_count": 27,
   "metadata": {},
   "outputs": [
    {
     "name": "stdout",
     "output_type": "stream",
     "text": [
      "     fun: array([[0.53577495]])\n",
      "     jac: array([[ 1.35341422e-03],\n",
      "       [ 5.31547697e-04],\n",
      "       [ 2.06387058e-03],\n",
      "       [ 1.87857624e-03],\n",
      "       [ 8.04438538e-04],\n",
      "       [ 3.87967970e-04],\n",
      "       [ 1.17383294e-03],\n",
      "       [ 1.93091248e-04],\n",
      "       [ 4.34077981e-04],\n",
      "       [ 2.48900341e-04],\n",
      "       [ 1.00976599e-03],\n",
      "       [ 3.68033907e-04],\n",
      "       [ 1.85795342e-04],\n",
      "       [ 2.70925076e-05],\n",
      "       [ 1.39152050e-04],\n",
      "       [ 6.89399692e-04],\n",
      "       [ 2.46070864e-04],\n",
      "       [ 2.09046512e-04],\n",
      "       [-9.44710815e-05],\n",
      "       [ 1.34063144e-04],\n",
      "       [ 2.75656216e-04],\n",
      "       [ 6.41852548e-04],\n",
      "       [ 2.69509401e-04],\n",
      "       [ 1.13996960e-04],\n",
      "       [-2.46085231e-05],\n",
      "       [ 2.31701987e-05],\n",
      "       [-2.01051772e-05],\n",
      "       [ 1.82310323e-04]])\n",
      " message: 'Converged (|f_n-f_(n-1)| ~= 0)'\n",
      "    nfev: 55\n",
      "     nit: 3\n",
      "  status: 1\n",
      " success: True\n",
      "       x: array([ 1.2544148 ,  0.62276771,  1.1924278 , -1.36184289, -0.87290729,\n",
      "       -2.00505536, -0.17096379, -0.35603632, -0.35536853,  0.12573804,\n",
      "       -1.18096081, -0.25080296, -0.61498653, -0.06683336, -1.45784658,\n",
      "       -0.46836151, -0.27659004, -0.27187034, -0.06382345, -0.20562899,\n",
      "       -0.2256685 , -0.93023147, -0.12073388, -0.32631647,  0.00581067,\n",
      "       -0.29695281,  0.01627579, -1.03247387])\n"
     ]
    }
   ],
   "source": [
    "# op.minimize 的参数x0,args需要转成 np.ndarray，而不能是np.matrix\n",
    "X = np.array(X)\n",
    "y = np.array(y)\n",
    "theta = np.array(np.zeros(shape=(X.shape[1],1)))\n",
    "\n",
    "# 卧槽，lambda 的值并不是过了某一个临界值就开始收敛，值为1,10的时候可以，为0,1000,10000的时候不可，但是为 1000000 的时候又能收敛了。。。。\n",
    "res = op.minimize(fun=regularizedCostFunction, x0=theta, args=(X, y,1), method='TNC', jac=regularizedGradient) \n",
    "print(res)"
   ]
  },
  {
   "cell_type": "markdown",
   "metadata": {},
   "source": [
    "## 2.4  Plotting the decision boundary"
   ]
  },
  {
   "cell_type": "code",
   "execution_count": 28,
   "metadata": {},
   "outputs": [
    {
     "data": {
      "text/plain": [
       "array([ 1.2544148 ,  0.62276771,  1.1924278 , -1.36184289, -0.87290729,\n",
       "       -2.00505536, -0.17096379, -0.35603632, -0.35536853,  0.12573804,\n",
       "       -1.18096081, -0.25080296, -0.61498653, -0.06683336, -1.45784658,\n",
       "       -0.46836151, -0.27659004, -0.27187034, -0.06382345, -0.20562899,\n",
       "       -0.2256685 , -0.93023147, -0.12073388, -0.32631647,  0.00581067,\n",
       "       -0.29695281,  0.01627579, -1.03247387])"
      ]
     },
     "execution_count": 28,
     "metadata": {},
     "output_type": "execute_result"
    }
   ],
   "source": [
    "theta = np.array(res.x)\n",
    "theta"
   ]
  },
  {
   "cell_type": "markdown",
   "metadata": {},
   "source": [
    "虽然 Decision Boundary 表面看起来判定还是 theta.T * x = 0，但是 theta 和 x 都是 28维的向量了，并且 x1 和 x2的对应关系应该是多对多\n",
    "\n",
    "自己笨蛋，画不出来，找到一篇参考文章：[吴恩达机器学习练习2.2——python实现代码详解](https://www.bilibili.com/read/cv7256459/)，它的思想是将整个区域分成许多个小区域（比如将x等分成50份，y也等分成50份，然后判断每一个等分过后的点的 theta.T * x 是否为 0 ，这样就找出了满足边界值的点，然后连起来）。**跟微分的思想一样。**"
   ]
  },
  {
   "cell_type": "code",
   "execution_count": 29,
   "metadata": {},
   "outputs": [],
   "source": [
    "def plotDecisionBoundary(m,theta):    # m:区域分成 m * m 份\n",
    "    u = np.linspace(-1,1.5,m)   # 横坐标\n",
    "    v = np.linspace(-1,1.5,m)   # 纵坐标\n",
    "    z = np.zeros((len(u),len(v))) # 坐标点\n",
    "    myData= pd.DataFrame(columns=['x','y','0'],dtype='float64') # 第三列没用，要他是因为我前面写的mapFeature需要的Data是三列\n",
    "    \n",
    "    for i in range(len(v)):        # 外循环是遍历v的\n",
    "        for j in range(len(u)):    # 内循环是遍历u的\n",
    "            # 所以这里是u[j] 和 v[i]，而不是u[i]，和v[j]\n",
    "            myData = myData.append(pd.DataFrame({'x':u[j],'y':v[i],'0':0},index=[1],dtype='float64'),ignore_index=True)\n",
    "    \n",
    "    myData_theta,myData_X,myData_y = mapFeature(myData,6)\n",
    "    myData = np.array(myData_X) # 只需要 X,另外两个都不需要\n",
    "    # print(myData.dtype,X.dtype)\n",
    "    myData = sigmoidFunction(myData.dot(theta))\n",
    "    k = 0\n",
    "    for i in range(len(v)):\n",
    "        for j in range(len(u)):\n",
    "            z[i,j] = myData[k]\n",
    "            k = k + 1\n",
    "    \n",
    "    \n",
    "    '''\n",
    "    z = np.transpose(z)：加这句话是因为 plt.contour 规定横纵坐标相反？？？ 为什么？？\n",
    "    \n",
    "    Answer：不是contour 规定相反，而是 z 之前就被搞反了，y是相当于第一维，x相当于第二维，\n",
    "    但是在参考的代码中初始化的时候却是外循环是x，内循环是外导致的反了。\n",
    "    \n",
    "    我上面改过来这个问题了，自然也就不需要这句话了。\n",
    "\n",
    "    '''\n",
    "#     z = np.transpose(z) # np.transpose(z) [Python numpy.transpose 详解](https://www.cnblogs.com/xiaoboge/p/9682364.html)\n",
    "    return u,v,z"
   ]
  },
  {
   "cell_type": "code",
   "execution_count": 30,
   "metadata": {},
   "outputs": [
    {
     "data": {
      "image/png": "[encoded data removed]",
      "text/plain": [
       "<Figure size 432x288 with 1 Axes>"
      ]
     },
     "metadata": {
      "needs_background": "light"
     },
     "output_type": "display_data"
    }
   ],
   "source": [
    "plt.scatter(data2_accepted['Microchip Test 1'],data2_accepted['Microchip Test 2'],marker='+',label='y = 1,Accepted')\n",
    "plt.scatter(data2_rejected['Microchip Test 1'],data2_rejected['Microchip Test 2'],marker='o',label='y = 0,Rejected')\n",
    "u,v,z = plotDecisionBoundary(50,theta)\n",
    "plt.contour(u,v,z,[0,0.5])\n",
    "plt.xlabel('Microchip Test 1')\n",
    "plt.ylabel('Microchip Test 2')\n",
    "plt.title('Figure 3:  Plot of training data',y=-0.3)\n",
    "plt.legend(loc=1)\n",
    "plt.show()"
   ]
  },
  {
   "cell_type": "markdown",
   "metadata": {},
   "source": [
    "下面这个是我用来测试 plt.contour() 的，请忽略它。"
   ]
  },
  {
   "cell_type": "code",
   "execution_count": 31,
   "metadata": {},
   "outputs": [
    {
     "name": "stdout",
     "output_type": "stream",
     "text": [
      "[[ 0.  2.  4.  6.  8. 10. 12. 14. 16. 18.]\n",
      " [ 1.  3.  5.  7.  9. 11. 13. 15. 17. 19.]\n",
      " [ 2.  4.  6.  8. 10. 12. 14. 16. 18. 20.]\n",
      " [ 3.  5.  7.  9. 11. 13. 15. 17. 19. 21.]\n",
      " [ 4.  6.  8. 10. 12. 14. 16. 18. 20. 22.]\n",
      " [ 5.  7.  9. 11. 13. 15. 17. 19. 21. 23.]\n",
      " [ 6.  8. 10. 12. 14. 16. 18. 20. 22. 24.]\n",
      " [ 7.  9. 11. 13. 15. 17. 19. 21. 23. 25.]\n",
      " [ 8. 10. 12. 14. 16. 18. 20. 22. 24. 26.]\n",
      " [ 9. 11. 13. 15. 17. 19. 21. 23. 25. 27.]]\n"
     ]
    },
    {
     "data": {
      "image/png": "[encoded data removed]",
      "text/plain": [
       "<Figure size 432x288 with 1 Axes>"
      ]
     },
     "metadata": {
      "needs_background": "light"
     },
     "output_type": "display_data"
    }
   ],
   "source": [
    "test_x = np.linspace(0,9,10)\n",
    "test_y = np.linspace(0,9,10)\n",
    "test_z = np.zeros(shape=(10,10))\n",
    "for i in range(10):\n",
    "    for j in range(10):\n",
    "        test_z[i,j] = test_x[j]*2 + test_y[i]\n",
    "print(test_z)\n",
    "plt.contour(test_z,[0,5])\n",
    "plt.show()"
   ]
  },
  {
   "cell_type": "markdown",
   "metadata": {},
   "source": [
    "算一下预测的正确率"
   ]
  },
  {
   "cell_type": "code",
   "execution_count": 32,
   "metadata": {},
   "outputs": [
    {
     "name": "stdout",
     "output_type": "stream",
     "text": [
      "精确度：0.8305084745762712\n"
     ]
    }
   ],
   "source": [
    "theta = np.matrix(res.x).T\n",
    "predictions = np.matrix(predict(theta,X))\n",
    "predictions = predictions.reshape(118,1)\n",
    "correct = y - predictions\n",
    "print('精确度：'+ str(sum(correct == 0)[0,0] / len(correct)))"
   ]
  },
  {
   "cell_type": "markdown",
   "metadata": {},
   "source": [
    "## 2.5  Optional (ungraded) exercises"
   ]
  },
  {
   "cell_type": "markdown",
   "metadata": {},
   "source": [
    "lambda_var = 0 :"
   ]
  },
  {
   "cell_type": "code",
   "execution_count": 33,
   "metadata": {},
   "outputs": [
    {
     "name": "stdout",
     "output_type": "stream",
     "text": [
      "     fun: array([[0.25321009]])\n",
      "     jac: array([[ 4.10752171e-04],\n",
      "       [-2.02484369e-04],\n",
      "       [-9.23945297e-04],\n",
      "       [ 7.27070169e-05],\n",
      "       [-2.19800121e-04],\n",
      "       [ 5.43362492e-05],\n",
      "       [-1.10352263e-05],\n",
      "       [-1.18483310e-05],\n",
      "       [-8.54315550e-05],\n",
      "       [-4.37212689e-06],\n",
      "       [ 3.11886262e-05],\n",
      "       [-1.32651200e-04],\n",
      "       [ 4.85229996e-05],\n",
      "       [-7.96528447e-05],\n",
      "       [-1.79225662e-05],\n",
      "       [ 2.48125954e-05],\n",
      "       [-3.73207413e-05],\n",
      "       [-1.08116751e-05],\n",
      "       [-3.18148823e-05],\n",
      "       [-7.15697525e-06],\n",
      "       [-3.07346706e-06],\n",
      "       [ 4.08106389e-05],\n",
      "       [-4.77361368e-05],\n",
      "       [ 1.24430717e-05],\n",
      "       [-1.94954679e-05],\n",
      "       [-1.04546959e-05],\n",
      "       [-1.30593738e-05],\n",
      "       [-1.91228069e-05]])\n",
      " message: 'Max. number of function evaluations reached'\n",
      "    nfev: 280\n",
      "     nit: 28\n",
      "  status: 3\n",
      " success: False\n",
      "       x: array([   13.0961957 ,    15.73969936,     4.46359343,   -59.76863539,\n",
      "         -62.32271015,  -134.07780629,     8.46171881,   -37.49286961,\n",
      "         -88.86810317,  -127.57331977,    86.15981093,   201.45130365,\n",
      "         568.28251289,   392.75903591,   470.31345975,    -9.76916363,\n",
      "          30.4096515 ,   160.84545489,   342.68311589,   307.42409044,\n",
      "         232.43362694,   -51.86325451,  -234.46905543,  -708.72024686,\n",
      "        -692.9691628 , -1058.2540676 ,  -685.5454876 ,  -544.49767927])\n"
     ]
    },
    {
     "name": "stderr",
     "output_type": "stream",
     "text": [
      "E:\\Anaconda3\\envs\\CourseraMLAndrewNgmyNoteEnv\\lib\\site-packages\\ipykernel_launcher.py:2: RuntimeWarning: overflow encountered in exp\n",
      "  \n"
     ]
    },
    {
     "data": {
      "image/png": "[encoded data removed]",
      "text/plain": [
       "<Figure size 432x288 with 1 Axes>"
      ]
     },
     "metadata": {
      "needs_background": "light"
     },
     "output_type": "display_data"
    }
   ],
   "source": [
    "theta = np.array(np.zeros(shape=(X.shape[1],1)))\n",
    "res = op.minimize(fun=regularizedCostFunction, x0=theta, args=(X, y,0), method='TNC', jac=regularizedGradient)  # 这一步 res 就已经因为欠拟合而失败了，所以下面的结果都是在失败的基础上得出来的的\n",
    "print(res)\n",
    "theta = np.array(res.x)\n",
    "\n",
    "plt.scatter(data2_accepted['Microchip Test 1'],data2_accepted['Microchip Test 2'],marker='+',label='y = 1,Accepted')\n",
    "plt.scatter(data2_rejected['Microchip Test 1'],data2_rejected['Microchip Test 2'],marker='o',label='y = 0,Rejected')\n",
    "u,v,z = plotDecisionBoundary(50,theta)\n",
    "plt.contour(u,v,z,[0,0.5])\n",
    "plt.xlabel('Microchip Test 1')\n",
    "plt.ylabel('Microchip Test 2')\n",
    "plt.title('Figure 3:  Plot of training data',y=-0.3)\n",
    "plt.legend(loc=1)\n",
    "plt.show()"
   ]
  },
  {
   "cell_type": "markdown",
   "metadata": {},
   "source": [
    "lambda_var = 100 ："
   ]
  },
  {
   "cell_type": "code",
   "execution_count": 34,
   "metadata": {},
   "outputs": [
    {
     "name": "stdout",
     "output_type": "stream",
     "text": [
      "     fun: array([[0.6865352]])\n",
      "     jac: array([[-3.20545916e-03],\n",
      "       [ 2.17785737e-04],\n",
      "       [ 2.34540754e-03],\n",
      "       [ 1.05295725e-03],\n",
      "       [-4.15265803e-04],\n",
      "       [-3.19186362e-04],\n",
      "       [ 9.18116842e-04],\n",
      "       [-1.49097422e-04],\n",
      "       [ 9.64442625e-05],\n",
      "       [ 1.66603715e-05],\n",
      "       [ 3.31224715e-04],\n",
      "       [-1.22808784e-04],\n",
      "       [-8.57425788e-05],\n",
      "       [-3.73543103e-05],\n",
      "       [-5.74653917e-04],\n",
      "       [ 4.02577984e-04],\n",
      "       [-1.24462755e-04],\n",
      "       [-1.69084682e-06],\n",
      "       [-3.00444038e-05],\n",
      "       [-1.83956701e-05],\n",
      "       [-1.73884195e-04],\n",
      "       [ 1.19161324e-04],\n",
      "       [-6.53129093e-05],\n",
      "       [-5.60610034e-05],\n",
      "       [ 3.78417676e-08],\n",
      "       [-8.61762825e-05],\n",
      "       [ 2.20615509e-06],\n",
      "       [-5.11870516e-04]])\n",
      " message: 'Linear search failed'\n",
      "    nfev: 72\n",
      "     nit: 2\n",
      "  status: 4\n",
      " success: False\n",
      "       x: array([ 0.00719084, -0.01700919,  0.00877037, -0.03641585, -0.01374843,\n",
      "       -0.05457778, -0.02144665, -0.00902627, -0.0075589 , -0.01820993,\n",
      "       -0.04059751, -0.00368256, -0.01408644, -0.00242957, -0.04363228,\n",
      "       -0.03128421, -0.00514491, -0.00628488, -0.00358861, -0.00471504,\n",
      "       -0.02100689, -0.04066655, -0.00164501, -0.00798165, -0.00039412,\n",
      "       -0.00706085, -0.00108227, -0.03445606])\n"
     ]
    },
    {
     "data": {
      "image/png": "[encoded data removed]",
      "text/plain": [
       "<Figure size 432x288 with 1 Axes>"
      ]
     },
     "metadata": {
      "needs_background": "light"
     },
     "output_type": "display_data"
    }
   ],
   "source": [
    "theta = np.array(np.zeros(shape=(X.shape[1],1)))\n",
    "res = op.minimize(fun=regularizedCostFunction, x0=theta, args=(X, y,100), method='TNC', jac=regularizedGradient)  # 这一步 res 同样没有拟合成功\n",
    "print(res)\n",
    "theta = np.array(res.x)\n",
    "\n",
    "plt.scatter(data2_accepted['Microchip Test 1'],data2_accepted['Microchip Test 2'],marker='+',label='y = 1,Accepted')\n",
    "plt.scatter(data2_rejected['Microchip Test 1'],data2_rejected['Microchip Test 2'],marker='o',label='y = 0,Rejected')\n",
    "u,v,z = plotDecisionBoundary(50,theta)\n",
    "plt.contour(u,v,z,[0,0.5])\n",
    "plt.xlabel('Microchip Test 1')\n",
    "plt.ylabel('Microchip Test 2')\n",
    "plt.title('Figure 3:  Plot of training data',y=-0.3)\n",
    "plt.legend(loc=1)\n",
    "plt.show()"
   ]
  },
  {
   "cell_type": "markdown",
   "metadata": {},
   "source": [
    "# END"
   ]
  },
  {
   "cell_type": "code",
   "execution_count": null,
   "metadata": {},
   "outputs": [],
   "source": []
  }
 ],
 "metadata": {
  "kernelspec": {
   "display_name": "Python [conda env:CourseraMLAndrewNgmyNoteEnv] *",
   "language": "python",
   "name": "conda-env-CourseraMLAndrewNgmyNoteEnv-py"
  },
  "language_info": {
   "codemirror_mode": {
    "name": "ipython",
    "version": 3
   },
   "file_extension": ".py",
   "mimetype": "text/x-python",
   "name": "python",
   "nbconvert_exporter": "python",
   "pygments_lexer": "ipython3",
   "version": "3.6.12"
  }
 },
 "nbformat": 4,
 "nbformat_minor": 4
}
