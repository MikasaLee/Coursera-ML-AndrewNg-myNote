{
 "cells": [
  {
   "cell_type": "markdown",
   "id": "retired-database",
   "metadata": {},
   "source": [
    "花一天时间把 LaTex 看了  \n",
    "照着下面敲一遍就差不多了\n",
    "+ [Markdown中的LaTeX格式](https://www.jianshu.com/p/8c46e915c45e)\n",
    "\n",
    "特殊符号基本都是相应的英文简写\n",
    "+ [常用数学标记与符号的英文表达](https://zhuanlan.zhihu.com/p/165310516)"
   ]
  },
  {
   "cell_type": "markdown",
   "id": "august-password",
   "metadata": {},
   "source": [
    "# 一、Markdown排版格式"
   ]
  },
  {
   "cell_type": "markdown",
   "id": "apart-initial",
   "metadata": {},
   "source": [
    "## 1）行内公式排版"
   ]
  },
  {
   "cell_type": "markdown",
   "id": "naval-jewelry",
   "metadata": {},
   "source": [
    "$ c = \\sqrt{a^{2}+b_{xy}^{2}+e^{x}} $"
   ]
  },
  {
   "cell_type": "markdown",
   "id": "devoted-printer",
   "metadata": {},
   "source": [
    "## 2）块公式排版"
   ]
  },
  {
   "cell_type": "markdown",
   "id": "federal-nightmare",
   "metadata": {},
   "source": [
    "$$ c = \\sqrt{a^{2}+b_{xy}^{2}+e^{x}} $$"
   ]
  },
  {
   "cell_type": "markdown",
   "id": "uniform-philip",
   "metadata": {},
   "source": [
    "# 二、LaTex的公式规则"
   ]
  },
  {
   "cell_type": "markdown",
   "id": "handled-pressure",
   "metadata": {},
   "source": [
    "## 常用规则"
   ]
  },
  {
   "cell_type": "markdown",
   "id": "southern-swaziland",
   "metadata": {},
   "source": [
    "### 1）转义"
   ]
  },
  {
   "cell_type": "markdown",
   "id": "alive-eclipse",
   "metadata": {},
   "source": [
    ">以下几个字符：# $ % & ~ _ ^ \\ {} 有特殊意义，需要表示这些字符时，需要转义，即在每个字符前加上\\  \n",
    "\\boxed 命令给公式加一个方框"
   ]
  },
  {
   "cell_type": "markdown",
   "id": "opponent-traffic",
   "metadata": {},
   "source": [
    "$ E = mc^{2} $\n",
    "$\\boxed E = mc^{2} $"
   ]
  },
  {
   "cell_type": "markdown",
   "id": "talented-logic",
   "metadata": {},
   "source": [
    "### 2）希腊字母"
   ]
  },
  {
   "cell_type": "markdown",
   "id": "aquatic-prerequisite",
   "metadata": {},
   "source": [
    "![希腊字母表.png](./LaTex1.png)"
   ]
  },
  {
   "cell_type": "markdown",
   "id": "standing-portland",
   "metadata": {},
   "source": [
    "### 3）上下标和根号"
   ]
  },
  {
   "cell_type": "markdown",
   "id": "smooth-estimate",
   "metadata": {},
   "source": [
    ">用^来表示上标  \n",
    "用_来表示下标  \n",
    "根号用\\sqrt来表示"
   ]
  },
  {
   "cell_type": "markdown",
   "id": "excessive-mentor",
   "metadata": {},
   "source": [
    "注意：上下标如果多余一个字符或符号，需要用{}括起来"
   ]
  },
  {
   "cell_type": "markdown",
   "id": "received-occasion",
   "metadata": {},
   "source": [
    "$ \\sum_{i=1}^n a_i $"
   ]
  },
  {
   "cell_type": "markdown",
   "id": "forced-subscription",
   "metadata": {},
   "source": [
    "\\sqrt[开方次数，默认为2]{开方公式}，例如："
   ]
  },
  {
   "cell_type": "markdown",
   "id": "accessory-design",
   "metadata": {},
   "source": [
    "$$ x_{ij}^{2}\\quad \\sqrt{x}\\quad \\sqrt[3]{x} $$"
   ]
  },
  {
   "cell_type": "markdown",
   "id": "female-jumping",
   "metadata": {},
   "source": [
    "其中 \\quad 表示添加空格"
   ]
  },
  {
   "cell_type": "markdown",
   "id": "expressed-distinction",
   "metadata": {},
   "source": [
    "### 4）分数"
   ]
  },
  {
   "cell_type": "markdown",
   "id": "instant-armor",
   "metadata": {},
   "source": [
    "> 分数用\\frac表示"
   ]
  },
  {
   "cell_type": "markdown",
   "id": "chemical-daisy",
   "metadata": {},
   "source": [
    "> 字号工具环境设置：  \n",
    "\\dfrac命令把字号设置为独立公式中的大小  \n",
    ">tfrac命令把字号设置为行间公式中的大小  "
   ]
  },
  {
   "cell_type": "markdown",
   "id": "covered-chancellor",
   "metadata": {},
   "source": [
    "$ \\frac{1}{2}\\quad \\dfrac{1}{2}\\quad \\tfrac{1}{2}$"
   ]
  },
  {
   "cell_type": "markdown",
   "id": "random-twist",
   "metadata": {},
   "source": [
    "$$ \\frac{1}{2}\\quad \\dfrac{1}{2}\\quad \\tfrac{1}{2} $$"
   ]
  },
  {
   "cell_type": "markdown",
   "id": "authentic-turner",
   "metadata": {},
   "source": [
    "### 5）运算符"
   ]
  },
  {
   "cell_type": "markdown",
   "id": "touched-motor",
   "metadata": {},
   "source": [
    "> \\+ - * / = 直接输入"
   ]
  },
  {
   "cell_type": "markdown",
   "id": "acute-cover",
   "metadata": {},
   "source": [
    ">特殊运算则用以下特殊命令 \\pm \\times \\div \\cdot \\cap \\cup \\geq \\leq \\neq \\approx \\equiv"
   ]
  },
  {
   "cell_type": "markdown",
   "id": "useful-professional",
   "metadata": {},
   "source": [
    "$$ \\pm\\quad \\times\\quad \\div\\quad \\cdot\\quad \\cap\\quad \\cup\\quad \\geq\\quad \\leq\\quad \\neq\\quad \\approx\\quad \\equiv\n",
    "$$"
   ]
  },
  {
   "cell_type": "markdown",
   "id": "boring-cholesterol",
   "metadata": {},
   "source": [
    ">和、积、极限、积分等运算符用 \\sum \\prod \\lim \\int 表示。这些公式在行内公式被压缩，以适应行高，可以通过\\limits 和 \\nolimits 命令显示是否压缩"
   ]
  },
  {
   "cell_type": "markdown",
   "id": "english-theorem",
   "metadata": {},
   "source": [
    "$ \\sum \\prod \\lim \\int $"
   ]
  },
  {
   "cell_type": "markdown",
   "id": "synthetic-turning",
   "metadata": {},
   "source": [
    "$\n",
    "\\sum\\limits_{i=1}^{n} i\\quad\n",
    "\\prod\\limits_{i=1}^{n}\\quad\n",
    "\\lim\\limits_{x\\to0} x^{2}\\quad\n",
    "\\int\\limits_{a}^{b} x^{2}dx\\quad\n",
    "\\sum_{i=1}^{n} i\\quad\n",
    "\\prod_{i=1}^{n}\\quad\n",
    "\\lim_{x\\to0}x^{2}\\quad\n",
    "\\int_{a}^{b} x^{2}dx\\quad\n",
    "$"
   ]
  },
  {
   "cell_type": "markdown",
   "id": "completed-stretch",
   "metadata": {},
   "source": [
    "### 6）多重积分"
   ]
  },
  {
   "cell_type": "markdown",
   "id": "after-inspiration",
   "metadata": {},
   "source": [
    "> 使用如下形式: \\int \\iint \\iiint \\idotsint"
   ]
  },
  {
   "cell_type": "markdown",
   "id": "genuine-electricity",
   "metadata": {},
   "source": [
    "$$ \n",
    "\\int\\quad \n",
    "\\iint\\quad\n",
    "\\iiint\\quad\n",
    "\\idotsint\\quad\n",
    "$$"
   ]
  },
  {
   "cell_type": "markdown",
   "id": "historical-israel",
   "metadata": {},
   "source": [
    "$ \n",
    "\\leftarrow\\quad\n",
    "\\Leftarrow\\quad\n",
    "\\rightarrow\\quad\n",
    "\\Rightarrow\\quad\n",
    "\\to\\quad\n",
    "\\leftrightarrow\\quad\n",
    "\\Leftrightarrow\\quad\n",
    "\\longleftrightarrow\\quad\n",
    "\\Longleftrightarrow\\quad\n",
    "\\longleftarrow\\quad\n",
    "\\Longleftarrow\\quad\n",
    "$"
   ]
  },
  {
   "cell_type": "markdown",
   "id": "metallic-porter",
   "metadata": {},
   "source": [
    "### 7）注音和标注"
   ]
  },
  {
   "cell_type": "markdown",
   "id": "automotive-venezuela",
   "metadata": {},
   "source": [
    "$ \\bar{x} $"
   ]
  },
  {
   "cell_type": "markdown",
   "id": "purple-promotion",
   "metadata": {},
   "source": [
    "$ \\acute{x} $"
   ]
  },
  {
   "cell_type": "markdown",
   "id": "indonesian-count",
   "metadata": {},
   "source": [
    "$ \\mathring{x}$"
   ]
  },
  {
   "cell_type": "markdown",
   "id": "agreed-norway",
   "metadata": {},
   "source": [
    "$ \\vec{x}$ "
   ]
  },
  {
   "cell_type": "markdown",
   "id": "outside-renewal",
   "metadata": {},
   "source": [
    "$\\grave{x}$"
   ]
  },
  {
   "cell_type": "markdown",
   "id": "ancient-making",
   "metadata": {},
   "source": [
    "$ \\dot{x} $"
   ]
  },
  {
   "cell_type": "markdown",
   "id": "green-fleet",
   "metadata": {},
   "source": [
    "$ \\tilde{x} $"
   ]
  },
  {
   "cell_type": "markdown",
   "id": "covered-ballet",
   "metadata": {},
   "source": [
    "$ \\ddot{x} $"
   ]
  },
  {
   "cell_type": "markdown",
   "id": "facial-underground",
   "metadata": {},
   "source": [
    "$ \\check{x} $"
   ]
  },
  {
   "cell_type": "markdown",
   "id": "appointed-samuel",
   "metadata": {},
   "source": [
    "$ \\breve{x} $"
   ]
  },
  {
   "cell_type": "markdown",
   "id": "capital-acting",
   "metadata": {},
   "source": [
    "$ \\dddot{x} $"
   ]
  },
  {
   "cell_type": "markdown",
   "id": "vulnerable-archives",
   "metadata": {},
   "source": [
    "### 8）分割符"
   ]
  },
  {
   "cell_type": "markdown",
   "id": "veterinary-death",
   "metadata": {},
   "source": [
    ">括号用 () [] {} \\langle \\rangle 表示 () [] {} ⟨⟩"
   ]
  },
  {
   "cell_type": "markdown",
   "id": "intelligent-ghana",
   "metadata": {},
   "source": [
    "$ \\langle \\rangle $"
   ]
  },
  {
   "cell_type": "markdown",
   "id": "floral-blind",
   "metadata": {},
   "source": [
    "$ \\overline{xxx} $"
   ]
  },
  {
   "cell_type": "markdown",
   "id": "electrical-handle",
   "metadata": {},
   "source": [
    "$ \\overleftrightarrow{xxx} $"
   ]
  },
  {
   "cell_type": "markdown",
   "id": "therapeutic-warning",
   "metadata": {},
   "source": [
    "$ \\underline{xxx} $"
   ]
  },
  {
   "cell_type": "markdown",
   "id": "passive-movie",
   "metadata": {},
   "source": [
    "$ \\underleftrightarrow{xxx} $"
   ]
  },
  {
   "cell_type": "markdown",
   "id": "alien-leave",
   "metadata": {},
   "source": [
    "$ \\overleftarrow{xxx} $"
   ]
  },
  {
   "cell_type": "markdown",
   "id": "physical-edinburgh",
   "metadata": {},
   "source": [
    "$ \\overbrace{xxx} $"
   ]
  },
  {
   "cell_type": "markdown",
   "id": "operational-navigator",
   "metadata": {},
   "source": [
    "$ \\underleftarrow{xxx} $"
   ]
  },
  {
   "cell_type": "markdown",
   "id": "legitimate-columbia",
   "metadata": {},
   "source": [
    "$ \\underbrace{xxx} $"
   ]
  },
  {
   "cell_type": "markdown",
   "id": "affiliated-observer",
   "metadata": {},
   "source": [
    "$ \\widehat{xxx} $"
   ]
  },
  {
   "cell_type": "markdown",
   "id": "tested-illinois",
   "metadata": {},
   "source": [
    "$ \\underrightarrow{xxx} $"
   ]
  },
  {
   "cell_type": "markdown",
   "id": "metropolitan-liver",
   "metadata": {},
   "source": [
    "$ \\widetilde{xxx} $"
   ]
  },
  {
   "cell_type": "markdown",
   "id": "norman-treasure",
   "metadata": {},
   "source": [
    "$$\n",
    "\\Bigg(\\quad \\bigg(\\quad \\Big(\\quad \\big((x) \\big)\\quad \\Big)\\quad \\bigg)\\quad \\Bigg)\\quad\n",
    "\\Bigg[\\quad \\bigg[\\quad \\Big[\\quad \\big[[x] \\big]\\quad \\Big]\\quad \\bigg]\\quad \\Bigg]\\quad\n",
    "\\Bigg\\{\\quad \\bigg\\{\\quad \\Big\\{\\quad \\big\\{\\{x\\} \\big\\}\\quad \\Big\\}\\quad \\bigg\\}\\quad \\Bigg\\}\\quad\n",
    "$$"
   ]
  },
  {
   "cell_type": "markdown",
   "id": "indie-senator",
   "metadata": {},
   "source": [
    "### 9）省略号"
   ]
  },
  {
   "cell_type": "markdown",
   "id": "responsible-polish",
   "metadata": {},
   "source": [
    ">省略号用 \\dots \\cdots \\vdots \\ddots表示，\\dots和\\cdots的纵向位置不同，前者一般用于有下标的序列"
   ]
  },
  {
   "cell_type": "markdown",
   "id": "hybrid-watts",
   "metadata": {},
   "source": [
    "$$ x_1,x_2,\\dots,x_n\\quad 1,2,\\cdots,n\\quad \\vdots\\quad \\ddots$$ "
   ]
  },
  {
   "cell_type": "markdown",
   "id": "mighty-immune",
   "metadata": {},
   "source": [
    "### 10）空白间距"
   ]
  },
  {
   "cell_type": "markdown",
   "id": "sustained-blocking",
   "metadata": {},
   "source": [
    "$$\n",
    "a\\quad b \n",
    "a\\qquad b\n",
    "a\\: b\n",
    "a\\; b\n",
    "a\\, b\n",
    "ab\n",
    "a \\! b\n",
    "$$"
   ]
  },
  {
   "cell_type": "markdown",
   "id": "latin-keyboard",
   "metadata": {},
   "source": [
    "## 复杂公式"
   ]
  },
  {
   "cell_type": "markdown",
   "id": "fleet-gregory",
   "metadata": {},
   "source": [
    "### 1）矩阵"
   ]
  },
  {
   "cell_type": "markdown",
   "id": "greatest-depression",
   "metadata": {},
   "source": [
    "$$\n",
    "\\begin{array}{ccc}\n",
    "x_1 & x_2 & \\dots \\\\\n",
    "x_3 & x_4 & \\dots \\\\\n",
    "\\vdots & \\vdots & \\ddots\n",
    "\\end{array}\n",
    "$$"
   ]
  },
  {
   "cell_type": "markdown",
   "id": "revised-raleigh",
   "metadata": {},
   "source": [
    "$$\n",
    "\\begin{pmatrix}\n",
    "a & b \\\\\n",
    "c & d \\\\\n",
    "\\end{pmatrix}\n",
    "\\quad\n",
    "\\begin{bmatrix}\n",
    "a & b \\\\\n",
    "c & d \\\\\n",
    "\\end{bmatrix}\n",
    "\\begin{Bmatrix}\n",
    "a & b \\\\\n",
    "c & d \\\\\n",
    "\\end{Bmatrix}\n",
    "\\begin{vmatrix}\n",
    "a & b \\\\\n",
    "c & d \\\\\n",
    "\\end{vmatrix}\n",
    "\\begin{Vmatrix}\n",
    "a & b \\\\\n",
    "c & d \\\\\n",
    "\\end{Vmatrix}\n",
    "$$"
   ]
  },
  {
   "cell_type": "markdown",
   "id": "rational-blade",
   "metadata": {},
   "source": [
    "$$\n",
    "(\n",
    "\\begin{smallmatrix}\n",
    "a & b \\\\\n",
    "c & d \n",
    "\\end{smallmatrix}\n",
    ")\n",
    "$$"
   ]
  },
  {
   "cell_type": "markdown",
   "id": "dedicated-berry",
   "metadata": {},
   "source": [
    "### 2）长公式"
   ]
  },
  {
   "cell_type": "markdown",
   "id": "romantic-restaurant",
   "metadata": {},
   "source": [
    ">无需对齐可使用multline;  \n",
    "需要对齐使用split;  \n",
    "用\\\\来分行  \n",
    "用&设置对齐位置"
   ]
  },
  {
   "cell_type": "markdown",
   "id": "unexpected-instrument",
   "metadata": {},
   "source": [
    "$$\n",
    "\\begin{multline}\n",
    "x = a+b+c+\\\\\n",
    "d+e+f+g\n",
    "\\end{multline}\n",
    "$$"
   ]
  },
  {
   "cell_type": "markdown",
   "id": "marine-manual",
   "metadata": {},
   "source": [
    "$$\n",
    "\\begin{split}\n",
    "x = &a + b + c&+\\\\\n",
    "&d+e+f&+g\n",
    "\\end{split}\n",
    "$$"
   ]
  },
  {
   "cell_type": "markdown",
   "id": "outdoor-switch",
   "metadata": {},
   "source": [
    "### 3）公式组"
   ]
  },
  {
   "cell_type": "markdown",
   "id": "forward-tribe",
   "metadata": {},
   "source": [
    "$\n",
    "\\begin{gather}\n",
    "a=b+c+d\\\\\n",
    "x=y+z\\\\\n",
    "5=4+1\n",
    "\\end{gather}\n",
    "$"
   ]
  },
  {
   "cell_type": "markdown",
   "id": "reserved-syria",
   "metadata": {},
   "source": [
    "$\n",
    "\\begin{align}\n",
    "a&=b+c&+d \\\\\n",
    "x&=y&+z \\\\\n",
    "5&=4&+1\n",
    "\\end{align}\n",
    "$"
   ]
  },
  {
   "cell_type": "markdown",
   "id": "dressed-dairy",
   "metadata": {},
   "source": [
    "### 4）分支公式"
   ]
  },
  {
   "cell_type": "markdown",
   "id": "needed-andrews",
   "metadata": {},
   "source": [
    ">分段函数通常用cases次环境写成分支公式"
   ]
  },
  {
   "cell_type": "markdown",
   "id": "broken-copper",
   "metadata": {},
   "source": [
    "$\n",
    "y=\\begin{cases}\n",
    "-x,\\quad x\\leq 0 \\\\\n",
    "x,\\quad x>0\n",
    "\\end{cases}\n",
    "$"
   ]
  }
 ],
 "metadata": {
  "kernelspec": {
   "display_name": "Python [conda env:CourseraMLAndrewNgmyNoteEnv] *",
   "language": "python",
   "name": "conda-env-CourseraMLAndrewNgmyNoteEnv-py"
  },
  "language_info": {
   "codemirror_mode": {
    "name": "ipython",
    "version": 3
   },
   "file_extension": ".py",
   "mimetype": "text/x-python",
   "name": "python",
   "nbconvert_exporter": "python",
   "pygments_lexer": "ipython3",
   "version": "3.6.13"
  }
 },
 "nbformat": 4,
 "nbformat_minor": 5
}
